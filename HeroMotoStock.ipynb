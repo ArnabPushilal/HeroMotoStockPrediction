{
  "nbformat": 4,
  "nbformat_minor": 0,
  "metadata": {
    "colab": {
      "name": "HeroMotoStock.ipynb",
      "provenance": [],
      "collapsed_sections": []
    },
    "kernelspec": {
      "name": "python3",
      "display_name": "Python 3"
    }
  },
  "cells": [
    {
      "cell_type": "markdown",
      "metadata": {
        "id": "XM1Ont3BUjcV"
      },
      "source": [
        "### **`Import Libraries`**\r\n"
      ]
    },
    {
      "cell_type": "code",
      "metadata": {
        "id": "SJ-E5r89ByVu"
      },
      "source": [
        "import pandas as pd\n",
        "import numpy as np\n",
        "import matplotlib.pyplot as plt\n",
        "import datetime as dt\n",
        "from keras.callbacks import EarlyStopping\n",
        "from datetime import datetime\n",
        "from google.colab import files\n",
        "import tensorflow as tf\n",
        "from tensorflow import keras"
      ],
      "execution_count": 1,
      "outputs": []
    },
    {
      "cell_type": "markdown",
      "metadata": {
        "id": "AHrMWsekU6dl"
      },
      "source": [
        "###**Function to plot basic series**"
      ]
    },
    {
      "cell_type": "code",
      "metadata": {
        "id": "eNKTNhiGShGN"
      },
      "source": [
        "def plot_series(datelist ,series, format=\"-\", start=0, end=None):\n",
        "    plt.plot(datelist, series[start:end], format)\n",
        "    plt.xlabel(\"Time\")\n",
        "    plt.ylabel(\"Value\")\n",
        "    plt.savefig('new.jpg')\n",
        "    files.download('new.jpg') \n",
        "    plt.grid(True)\n"
      ],
      "execution_count": 9,
      "outputs": []
    },
    {
      "cell_type": "markdown",
      "metadata": {
        "id": "K74HrWfDWKYi"
      },
      "source": [
        "### Mount and View Data "
      ]
    },
    {
      "cell_type": "code",
      "metadata": {
        "id": "MG-5ASHJAzA3",
        "colab": {
          "base_uri": "https://localhost:8080/"
        },
        "outputId": "90c10433-e83c-48f6-d84c-476b40d113be"
      },
      "source": [
        "from google.colab import drive\n",
        "drive.mount('/content/gdrive')\n",
        "\n"
      ],
      "execution_count": 3,
      "outputs": [
        {
          "output_type": "stream",
          "text": [
            "Mounted at /content/gdrive\n"
          ],
          "name": "stdout"
        }
      ]
    },
    {
      "cell_type": "code",
      "metadata": {
        "id": "b5me2BsYBmuO"
      },
      "source": [
        "dataset= pd.read_csv('gdrive/My Drive/HEROMOTOCO.csv')"
      ],
      "execution_count": 4,
      "outputs": []
    },
    {
      "cell_type": "code",
      "metadata": {
        "id": "sRHAq2-aSTmG",
        "colab": {
          "base_uri": "https://localhost:8080/",
          "height": 606
        },
        "outputId": "6fb641f3-0cb8-480e-88ac-f27a2d005ceb"
      },
      "source": [
        " dataset"
      ],
      "execution_count": 5,
      "outputs": [
        {
          "output_type": "execute_result",
          "data": {
            "text/html": [
              "<div>\n",
              "<style scoped>\n",
              "    .dataframe tbody tr th:only-of-type {\n",
              "        vertical-align: middle;\n",
              "    }\n",
              "\n",
              "    .dataframe tbody tr th {\n",
              "        vertical-align: top;\n",
              "    }\n",
              "\n",
              "    .dataframe thead th {\n",
              "        text-align: right;\n",
              "    }\n",
              "</style>\n",
              "<table border=\"1\" class=\"dataframe\">\n",
              "  <thead>\n",
              "    <tr style=\"text-align: right;\">\n",
              "      <th></th>\n",
              "      <th>Date</th>\n",
              "      <th>Symbol</th>\n",
              "      <th>Series</th>\n",
              "      <th>Prev Close</th>\n",
              "      <th>Open</th>\n",
              "      <th>High</th>\n",
              "      <th>Low</th>\n",
              "      <th>Last</th>\n",
              "      <th>Close</th>\n",
              "      <th>VWAP</th>\n",
              "      <th>Volume</th>\n",
              "      <th>Turnover</th>\n",
              "      <th>Trades</th>\n",
              "      <th>Deliverable Volume</th>\n",
              "      <th>%Deliverble</th>\n",
              "    </tr>\n",
              "  </thead>\n",
              "  <tbody>\n",
              "    <tr>\n",
              "      <th>0</th>\n",
              "      <td>2000-01-03</td>\n",
              "      <td>HEROHONDA</td>\n",
              "      <td>EQ</td>\n",
              "      <td>1145.20</td>\n",
              "      <td>1200.00</td>\n",
              "      <td>1236.80</td>\n",
              "      <td>1171.00</td>\n",
              "      <td>1209.95</td>\n",
              "      <td>1207.60</td>\n",
              "      <td>1209.11</td>\n",
              "      <td>10631</td>\n",
              "      <td>1.285401e+12</td>\n",
              "      <td>NaN</td>\n",
              "      <td>NaN</td>\n",
              "      <td>NaN</td>\n",
              "    </tr>\n",
              "    <tr>\n",
              "      <th>1</th>\n",
              "      <td>2000-01-04</td>\n",
              "      <td>HEROHONDA</td>\n",
              "      <td>EQ</td>\n",
              "      <td>1207.60</td>\n",
              "      <td>1200.00</td>\n",
              "      <td>1220.00</td>\n",
              "      <td>1176.00</td>\n",
              "      <td>1200.00</td>\n",
              "      <td>1199.85</td>\n",
              "      <td>1200.93</td>\n",
              "      <td>19849</td>\n",
              "      <td>2.383719e+12</td>\n",
              "      <td>NaN</td>\n",
              "      <td>NaN</td>\n",
              "      <td>NaN</td>\n",
              "    </tr>\n",
              "    <tr>\n",
              "      <th>2</th>\n",
              "      <td>2000-01-05</td>\n",
              "      <td>HEROHONDA</td>\n",
              "      <td>EQ</td>\n",
              "      <td>1199.85</td>\n",
              "      <td>1155.00</td>\n",
              "      <td>1178.00</td>\n",
              "      <td>1140.00</td>\n",
              "      <td>1140.00</td>\n",
              "      <td>1143.80</td>\n",
              "      <td>1159.74</td>\n",
              "      <td>2525</td>\n",
              "      <td>2.928355e+11</td>\n",
              "      <td>NaN</td>\n",
              "      <td>NaN</td>\n",
              "      <td>NaN</td>\n",
              "    </tr>\n",
              "    <tr>\n",
              "      <th>3</th>\n",
              "      <td>2000-01-06</td>\n",
              "      <td>HEROHONDA</td>\n",
              "      <td>EQ</td>\n",
              "      <td>1143.80</td>\n",
              "      <td>1183.00</td>\n",
              "      <td>1189.95</td>\n",
              "      <td>1150.25</td>\n",
              "      <td>1165.00</td>\n",
              "      <td>1161.40</td>\n",
              "      <td>1167.29</td>\n",
              "      <td>4375</td>\n",
              "      <td>5.106887e+11</td>\n",
              "      <td>NaN</td>\n",
              "      <td>NaN</td>\n",
              "      <td>NaN</td>\n",
              "    </tr>\n",
              "    <tr>\n",
              "      <th>4</th>\n",
              "      <td>2000-01-07</td>\n",
              "      <td>HEROHONDA</td>\n",
              "      <td>EQ</td>\n",
              "      <td>1161.40</td>\n",
              "      <td>1140.00</td>\n",
              "      <td>1140.00</td>\n",
              "      <td>1069.00</td>\n",
              "      <td>1105.00</td>\n",
              "      <td>1106.55</td>\n",
              "      <td>1103.52</td>\n",
              "      <td>9093</td>\n",
              "      <td>1.003429e+12</td>\n",
              "      <td>NaN</td>\n",
              "      <td>NaN</td>\n",
              "      <td>NaN</td>\n",
              "    </tr>\n",
              "    <tr>\n",
              "      <th>...</th>\n",
              "      <td>...</td>\n",
              "      <td>...</td>\n",
              "      <td>...</td>\n",
              "      <td>...</td>\n",
              "      <td>...</td>\n",
              "      <td>...</td>\n",
              "      <td>...</td>\n",
              "      <td>...</td>\n",
              "      <td>...</td>\n",
              "      <td>...</td>\n",
              "      <td>...</td>\n",
              "      <td>...</td>\n",
              "      <td>...</td>\n",
              "      <td>...</td>\n",
              "      <td>...</td>\n",
              "    </tr>\n",
              "    <tr>\n",
              "      <th>5136</th>\n",
              "      <td>2020-08-25</td>\n",
              "      <td>HEROMOTOCO</td>\n",
              "      <td>EQ</td>\n",
              "      <td>3015.05</td>\n",
              "      <td>3044.00</td>\n",
              "      <td>3052.95</td>\n",
              "      <td>2957.85</td>\n",
              "      <td>2985.95</td>\n",
              "      <td>2969.75</td>\n",
              "      <td>3002.25</td>\n",
              "      <td>1324090</td>\n",
              "      <td>3.975243e+14</td>\n",
              "      <td>71119.0</td>\n",
              "      <td>397548.0</td>\n",
              "      <td>0.3002</td>\n",
              "    </tr>\n",
              "    <tr>\n",
              "      <th>5137</th>\n",
              "      <td>2020-08-26</td>\n",
              "      <td>HEROMOTOCO</td>\n",
              "      <td>EQ</td>\n",
              "      <td>2969.75</td>\n",
              "      <td>3110.00</td>\n",
              "      <td>3181.35</td>\n",
              "      <td>3070.00</td>\n",
              "      <td>3160.45</td>\n",
              "      <td>3160.75</td>\n",
              "      <td>3119.68</td>\n",
              "      <td>4651111</td>\n",
              "      <td>1.450998e+15</td>\n",
              "      <td>207879.0</td>\n",
              "      <td>792853.0</td>\n",
              "      <td>0.1705</td>\n",
              "    </tr>\n",
              "    <tr>\n",
              "      <th>5138</th>\n",
              "      <td>2020-08-27</td>\n",
              "      <td>HEROMOTOCO</td>\n",
              "      <td>EQ</td>\n",
              "      <td>3160.75</td>\n",
              "      <td>3159.00</td>\n",
              "      <td>3170.00</td>\n",
              "      <td>3107.50</td>\n",
              "      <td>3136.00</td>\n",
              "      <td>3141.75</td>\n",
              "      <td>3130.03</td>\n",
              "      <td>1431518</td>\n",
              "      <td>4.480691e+14</td>\n",
              "      <td>76057.0</td>\n",
              "      <td>230374.0</td>\n",
              "      <td>0.1609</td>\n",
              "    </tr>\n",
              "    <tr>\n",
              "      <th>5139</th>\n",
              "      <td>2020-08-28</td>\n",
              "      <td>HEROMOTOCO</td>\n",
              "      <td>EQ</td>\n",
              "      <td>3141.75</td>\n",
              "      <td>3119.05</td>\n",
              "      <td>3164.00</td>\n",
              "      <td>3050.65</td>\n",
              "      <td>3068.15</td>\n",
              "      <td>3059.30</td>\n",
              "      <td>3101.21</td>\n",
              "      <td>1838010</td>\n",
              "      <td>5.700058e+14</td>\n",
              "      <td>105935.0</td>\n",
              "      <td>525422.0</td>\n",
              "      <td>0.2859</td>\n",
              "    </tr>\n",
              "    <tr>\n",
              "      <th>5140</th>\n",
              "      <td>2020-08-31</td>\n",
              "      <td>HEROMOTOCO</td>\n",
              "      <td>EQ</td>\n",
              "      <td>3059.30</td>\n",
              "      <td>3070.00</td>\n",
              "      <td>3088.90</td>\n",
              "      <td>2966.10</td>\n",
              "      <td>2998.80</td>\n",
              "      <td>3006.05</td>\n",
              "      <td>3014.53</td>\n",
              "      <td>1808598</td>\n",
              "      <td>5.452078e+14</td>\n",
              "      <td>78344.0</td>\n",
              "      <td>583686.0</td>\n",
              "      <td>0.3227</td>\n",
              "    </tr>\n",
              "  </tbody>\n",
              "</table>\n",
              "<p>5141 rows × 15 columns</p>\n",
              "</div>"
            ],
            "text/plain": [
              "            Date      Symbol Series  ...    Trades  Deliverable Volume  %Deliverble\n",
              "0     2000-01-03   HEROHONDA     EQ  ...       NaN                 NaN          NaN\n",
              "1     2000-01-04   HEROHONDA     EQ  ...       NaN                 NaN          NaN\n",
              "2     2000-01-05   HEROHONDA     EQ  ...       NaN                 NaN          NaN\n",
              "3     2000-01-06   HEROHONDA     EQ  ...       NaN                 NaN          NaN\n",
              "4     2000-01-07   HEROHONDA     EQ  ...       NaN                 NaN          NaN\n",
              "...          ...         ...    ...  ...       ...                 ...          ...\n",
              "5136  2020-08-25  HEROMOTOCO     EQ  ...   71119.0            397548.0       0.3002\n",
              "5137  2020-08-26  HEROMOTOCO     EQ  ...  207879.0            792853.0       0.1705\n",
              "5138  2020-08-27  HEROMOTOCO     EQ  ...   76057.0            230374.0       0.1609\n",
              "5139  2020-08-28  HEROMOTOCO     EQ  ...  105935.0            525422.0       0.2859\n",
              "5140  2020-08-31  HEROMOTOCO     EQ  ...   78344.0            583686.0       0.3227\n",
              "\n",
              "[5141 rows x 15 columns]"
            ]
          },
          "metadata": {
            "tags": []
          },
          "execution_count": 5
        }
      ]
    },
    {
      "cell_type": "code",
      "metadata": {
        "id": "kjW9Qhd4Z77J"
      },
      "source": [
        "datelist = list(dataset['Date'])\n",
        "datelist = [dt.datetime.strptime(date, '%Y-%m-%d').date() for date in datelist]\n"
      ],
      "execution_count": 7,
      "outputs": []
    },
    {
      "cell_type": "code",
      "metadata": {
        "id": "Bm3DkVlxZ8IB",
        "colab": {
          "base_uri": "https://localhost:8080/",
          "height": 279
        },
        "outputId": "7518cd2d-419e-40cb-f657-6005c9bbb6e9"
      },
      "source": [
        "plot_series(datelist,dataset['Close']) ## I chose the closing price as the parameter I want to predict\r\n"
      ],
      "execution_count": 8,
      "outputs": [
        {
          "output_type": "display_data",
          "data": {
            "application/javascript": [
              "\n",
              "    async function download(id, filename, size) {\n",
              "      if (!google.colab.kernel.accessAllowed) {\n",
              "        return;\n",
              "      }\n",
              "      const div = document.createElement('div');\n",
              "      const label = document.createElement('label');\n",
              "      label.textContent = `Downloading \"${filename}\": `;\n",
              "      div.appendChild(label);\n",
              "      const progress = document.createElement('progress');\n",
              "      progress.max = size;\n",
              "      div.appendChild(progress);\n",
              "      document.body.appendChild(div);\n",
              "\n",
              "      const buffers = [];\n",
              "      let downloaded = 0;\n",
              "\n",
              "      const channel = await google.colab.kernel.comms.open(id);\n",
              "      // Send a message to notify the kernel that we're ready.\n",
              "      channel.send({})\n",
              "\n",
              "      for await (const message of channel.messages) {\n",
              "        // Send a message to notify the kernel that we're ready.\n",
              "        channel.send({})\n",
              "        if (message.buffers) {\n",
              "          for (const buffer of message.buffers) {\n",
              "            buffers.push(buffer);\n",
              "            downloaded += buffer.byteLength;\n",
              "            progress.value = downloaded;\n",
              "          }\n",
              "        }\n",
              "      }\n",
              "      const blob = new Blob(buffers, {type: 'application/binary'});\n",
              "      const a = document.createElement('a');\n",
              "      a.href = window.URL.createObjectURL(blob);\n",
              "      a.download = filename;\n",
              "      div.appendChild(a);\n",
              "      a.click();\n",
              "      div.remove();\n",
              "    }\n",
              "  "
            ],
            "text/plain": [
              "<IPython.core.display.Javascript object>"
            ]
          },
          "metadata": {
            "tags": []
          }
        },
        {
          "output_type": "display_data",
          "data": {
            "application/javascript": [
              "download(\"download_4c8960e9-45bd-4a57-86b9-25d26a79180f\", \"fig.jpg\", 24132)"
            ],
            "text/plain": [
              "<IPython.core.display.Javascript object>"
            ]
          },
          "metadata": {
            "tags": []
          }
        },
        {
          "output_type": "display_data",
          "data": {
            "image/png": "[encoded data removed]",
            "text/plain": [
              "<Figure size 432x288 with 1 Axes>"
            ]
          },
          "metadata": {
            "tags": [],
            "needs_background": "light"
          }
        }
      ]
    },
    {
      "cell_type": "markdown",
      "metadata": {
        "id": "8H3zJFKJXIfw"
      },
      "source": [
        "### Spliting into Test and Train"
      ]
    },
    {
      "cell_type": "code",
      "metadata": {
        "id": "truenUbAatsd",
        "colab": {
          "base_uri": "https://localhost:8080/",
          "height": 389
        },
        "outputId": "f4a39ece-9549-4b6b-eb27-ca55b3b53880"
      },
      "source": [
        "Train=dataset['Close']\n",
        "time = np.array(range(len(Train)))\n",
        "split_time = int(0.85*len(Train)) \n",
        "time_train = datelist[:split_time]\n",
        "x_train = Train[:split_time]\n",
        "time_valid = datelist[split_time:]\n",
        "x_valid = Train[split_time:]\n",
        "plt.figure(figsize=(10, 6))\n",
        "plot_series(time_train, x_train)\n",
        "plt.show()"
      ],
      "execution_count": 10,
      "outputs": [
        {
          "output_type": "display_data",
          "data": {
            "application/javascript": [
              "\n",
              "    async function download(id, filename, size) {\n",
              "      if (!google.colab.kernel.accessAllowed) {\n",
              "        return;\n",
              "      }\n",
              "      const div = document.createElement('div');\n",
              "      const label = document.createElement('label');\n",
              "      label.textContent = `Downloading \"${filename}\": `;\n",
              "      div.appendChild(label);\n",
              "      const progress = document.createElement('progress');\n",
              "      progress.max = size;\n",
              "      div.appendChild(progress);\n",
              "      document.body.appendChild(div);\n",
              "\n",
              "      const buffers = [];\n",
              "      let downloaded = 0;\n",
              "\n",
              "      const channel = await google.colab.kernel.comms.open(id);\n",
              "      // Send a message to notify the kernel that we're ready.\n",
              "      channel.send({})\n",
              "\n",
              "      for await (const message of channel.messages) {\n",
              "        // Send a message to notify the kernel that we're ready.\n",
              "        channel.send({})\n",
              "        if (message.buffers) {\n",
              "          for (const buffer of message.buffers) {\n",
              "            buffers.push(buffer);\n",
              "            downloaded += buffer.byteLength;\n",
              "            progress.value = downloaded;\n",
              "          }\n",
              "        }\n",
              "      }\n",
              "      const blob = new Blob(buffers, {type: 'application/binary'});\n",
              "      const a = document.createElement('a');\n",
              "      a.href = window.URL.createObjectURL(blob);\n",
              "      a.download = filename;\n",
              "      div.appendChild(a);\n",
              "      a.click();\n",
              "      div.remove();\n",
              "    }\n",
              "  "
            ],
            "text/plain": [
              "<IPython.core.display.Javascript object>"
            ]
          },
          "metadata": {
            "tags": []
          }
        },
        {
          "output_type": "display_data",
          "data": {
            "application/javascript": [
              "download(\"download_123b700c-8849-4f6c-abe5-53b118f01a75\", \"new.jpg\", 36805)"
            ],
            "text/plain": [
              "<IPython.core.display.Javascript object>"
            ]
          },
          "metadata": {
            "tags": []
          }
        },
        {
          "output_type": "display_data",
          "data": {
            "image/png": "[encoded data removed]",
            "text/plain": [
              "<Figure size 720x432 with 1 Axes>"
            ]
          },
          "metadata": {
            "tags": [],
            "needs_background": "light"
          }
        }
      ]
    },
    {
      "cell_type": "markdown",
      "metadata": {
        "id": "wEsGXEQKX71J"
      },
      "source": [
        "##Accuracy Metric"
      ]
    },
    {
      "cell_type": "code",
      "metadata": {
        "id": "S-5aZhXgfnvl"
      },
      "source": [
        "def accuracy(x_valid,prediction,retmetric=False):\n",
        " MAE=keras.metrics.mean_absolute_error(x_valid,prediction).numpy()\n",
        " MSE=keras.metrics.mean_squared_error(x_valid, prediction).numpy()\n",
        " print(\"MSE : \",keras.metrics.mean_squared_error(x_valid, prediction).numpy())\n",
        " print(\"MAE: \" ,keras.metrics.mean_absolute_error(x_valid,prediction).numpy())\n",
        " if retmetric == True:\n",
        "  return MAE\n",
        " "
      ],
      "execution_count": 11,
      "outputs": []
    },
    {
      "cell_type": "markdown",
      "metadata": {
        "id": "9F3i5neAYhDp"
      },
      "source": [
        "### Moving Average Function "
      ]
    },
    {
      "cell_type": "code",
      "metadata": {
        "id": "ycUluajOjjMx"
      },
      "source": [
        "def moving_average_forecast(series, window_size):\n",
        "  forecast = []\n",
        "  for time in range(len(series) - window_size):\n",
        "    sum=np.sum(series[time: (time + window_size)])\n",
        "    mva=sum/window_size\n",
        "    forecast.append(mva)\n",
        "  return np.array(forecast)"
      ],
      "execution_count": 12,
      "outputs": []
    },
    {
      "cell_type": "code",
      "metadata": {
        "id": "9prue16kmxUf",
        "colab": {
          "base_uri": "https://localhost:8080/",
          "height": 422
        },
        "outputId": "acf4f1b6-5293-4423-fd71-c905b8b99219"
      },
      "source": [
        "moving_avg = moving_average_forecast(Train, 40)[split_time - 40:]\n",
        "plt.figure(figsize=(10, 6))\n",
        "plot_series(time_valid, x_valid)\n",
        "plot_series(time_valid, moving_avg)\n",
        "accuracy(x_valid,moving_avg)"
      ],
      "execution_count": 13,
      "outputs": [
        {
          "output_type": "display_data",
          "data": {
            "application/javascript": [
              "\n",
              "    async function download(id, filename, size) {\n",
              "      if (!google.colab.kernel.accessAllowed) {\n",
              "        return;\n",
              "      }\n",
              "      const div = document.createElement('div');\n",
              "      const label = document.createElement('label');\n",
              "      label.textContent = `Downloading \"${filename}\": `;\n",
              "      div.appendChild(label);\n",
              "      const progress = document.createElement('progress');\n",
              "      progress.max = size;\n",
              "      div.appendChild(progress);\n",
              "      document.body.appendChild(div);\n",
              "\n",
              "      const buffers = [];\n",
              "      let downloaded = 0;\n",
              "\n",
              "      const channel = await google.colab.kernel.comms.open(id);\n",
              "      // Send a message to notify the kernel that we're ready.\n",
              "      channel.send({})\n",
              "\n",
              "      for await (const message of channel.messages) {\n",
              "        // Send a message to notify the kernel that we're ready.\n",
              "        channel.send({})\n",
              "        if (message.buffers) {\n",
              "          for (const buffer of message.buffers) {\n",
              "            buffers.push(buffer);\n",
              "            downloaded += buffer.byteLength;\n",
              "            progress.value = downloaded;\n",
              "          }\n",
              "        }\n",
              "      }\n",
              "      const blob = new Blob(buffers, {type: 'application/binary'});\n",
              "      const a = document.createElement('a');\n",
              "      a.href = window.URL.createObjectURL(blob);\n",
              "      a.download = filename;\n",
              "      div.appendChild(a);\n",
              "      a.click();\n",
              "      div.remove();\n",
              "    }\n",
              "  "
            ],
            "text/plain": [
              "<IPython.core.display.Javascript object>"
            ]
          },
          "metadata": {
            "tags": []
          }
        },
        {
          "output_type": "display_data",
          "data": {
            "application/javascript": [
              "download(\"download_2aece9d9-cc52-488f-94ca-14762347497c\", \"new.jpg\", 38590)"
            ],
            "text/plain": [
              "<IPython.core.display.Javascript object>"
            ]
          },
          "metadata": {
            "tags": []
          }
        },
        {
          "output_type": "display_data",
          "data": {
            "application/javascript": [
              "\n",
              "    async function download(id, filename, size) {\n",
              "      if (!google.colab.kernel.accessAllowed) {\n",
              "        return;\n",
              "      }\n",
              "      const div = document.createElement('div');\n",
              "      const label = document.createElement('label');\n",
              "      label.textContent = `Downloading \"${filename}\": `;\n",
              "      div.appendChild(label);\n",
              "      const progress = document.createElement('progress');\n",
              "      progress.max = size;\n",
              "      div.appendChild(progress);\n",
              "      document.body.appendChild(div);\n",
              "\n",
              "      const buffers = [];\n",
              "      let downloaded = 0;\n",
              "\n",
              "      const channel = await google.colab.kernel.comms.open(id);\n",
              "      // Send a message to notify the kernel that we're ready.\n",
              "      channel.send({})\n",
              "\n",
              "      for await (const message of channel.messages) {\n",
              "        // Send a message to notify the kernel that we're ready.\n",
              "        channel.send({})\n",
              "        if (message.buffers) {\n",
              "          for (const buffer of message.buffers) {\n",
              "            buffers.push(buffer);\n",
              "            downloaded += buffer.byteLength;\n",
              "            progress.value = downloaded;\n",
              "          }\n",
              "        }\n",
              "      }\n",
              "      const blob = new Blob(buffers, {type: 'application/binary'});\n",
              "      const a = document.createElement('a');\n",
              "      a.href = window.URL.createObjectURL(blob);\n",
              "      a.download = filename;\n",
              "      div.appendChild(a);\n",
              "      a.click();\n",
              "      div.remove();\n",
              "    }\n",
              "  "
            ],
            "text/plain": [
              "<IPython.core.display.Javascript object>"
            ]
          },
          "metadata": {
            "tags": []
          }
        },
        {
          "output_type": "display_data",
          "data": {
            "application/javascript": [
              "download(\"download_d67838dd-bc7b-44aa-a631-458afc1ab993\", \"new.jpg\", 55775)"
            ],
            "text/plain": [
              "<IPython.core.display.Javascript object>"
            ]
          },
          "metadata": {
            "tags": []
          }
        },
        {
          "output_type": "stream",
          "text": [
            "MSE :  32488.284767128804\n",
            "MAE:  143.39250809585494\n"
          ],
          "name": "stdout"
        },
        {
          "output_type": "display_data",
          "data": {
            "image/png": "[encoded data removed]",
            "text/plain": [
              "<Figure size 720x432 with 1 Axes>"
            ]
          },
          "metadata": {
            "tags": [],
            "needs_background": "light"
          }
        }
      ]
    },
    {
      "cell_type": "markdown",
      "metadata": {
        "id": "f6CsRoPHaQMz"
      },
      "source": [
        "### Moving Average with a difference to account for a period in the series"
      ]
    },
    {
      "cell_type": "code",
      "metadata": {
        "id": "aAf4dSqrmzgd",
        "colab": {
          "base_uri": "https://localhost:8080/",
          "height": 388
        },
        "outputId": "ee64b5e4-34c3-4f3c-febf-d52c64c29146"
      },
      "source": [
        "diff_series = (np.array(Train[90:]) - np.array(Train[:-90]))\n",
        "diff_time = time[90:]\n",
        "plt.figure(figsize=(10, 6))\n",
        "plot_series(diff_time, diff_series)\n",
        "plt.show()\n",
        "\n"
      ],
      "execution_count": 14,
      "outputs": [
        {
          "output_type": "display_data",
          "data": {
            "application/javascript": [
              "\n",
              "    async function download(id, filename, size) {\n",
              "      if (!google.colab.kernel.accessAllowed) {\n",
              "        return;\n",
              "      }\n",
              "      const div = document.createElement('div');\n",
              "      const label = document.createElement('label');\n",
              "      label.textContent = `Downloading \"${filename}\": `;\n",
              "      div.appendChild(label);\n",
              "      const progress = document.createElement('progress');\n",
              "      progress.max = size;\n",
              "      div.appendChild(progress);\n",
              "      document.body.appendChild(div);\n",
              "\n",
              "      const buffers = [];\n",
              "      let downloaded = 0;\n",
              "\n",
              "      const channel = await google.colab.kernel.comms.open(id);\n",
              "      // Send a message to notify the kernel that we're ready.\n",
              "      channel.send({})\n",
              "\n",
              "      for await (const message of channel.messages) {\n",
              "        // Send a message to notify the kernel that we're ready.\n",
              "        channel.send({})\n",
              "        if (message.buffers) {\n",
              "          for (const buffer of message.buffers) {\n",
              "            buffers.push(buffer);\n",
              "            downloaded += buffer.byteLength;\n",
              "            progress.value = downloaded;\n",
              "          }\n",
              "        }\n",
              "      }\n",
              "      const blob = new Blob(buffers, {type: 'application/binary'});\n",
              "      const a = document.createElement('a');\n",
              "      a.href = window.URL.createObjectURL(blob);\n",
              "      a.download = filename;\n",
              "      div.appendChild(a);\n",
              "      a.click();\n",
              "      div.remove();\n",
              "    }\n",
              "  "
            ],
            "text/plain": [
              "<IPython.core.display.Javascript object>"
            ]
          },
          "metadata": {
            "tags": []
          }
        },
        {
          "output_type": "display_data",
          "data": {
            "application/javascript": [
              "download(\"download_733dfb9b-9012-4fd1-9d0f-24d36d8d6ef4\", \"new.jpg\", 48997)"
            ],
            "text/plain": [
              "<IPython.core.display.Javascript object>"
            ]
          },
          "metadata": {
            "tags": []
          }
        },
        {
          "output_type": "display_data",
          "data": {
            "image/png": "[encoded data removed]",
            "text/plain": [
              "<Figure size 720x432 with 1 Axes>"
            ]
          },
          "metadata": {
            "tags": [],
            "needs_background": "light"
          }
        }
      ]
    },
    {
      "cell_type": "code",
      "metadata": {
        "id": "IPTMO_yy2G8n",
        "colab": {
          "base_uri": "https://localhost:8080/",
          "height": 388
        },
        "outputId": "e44cd217-e8de-4bfb-ebdf-1ecbe08c472c"
      },
      "source": [
        "diff_moving_avg = moving_average_forecast(diff_series, 30)[split_time - 90 - 30:]  \n",
        "plt.figure(figsize=(10, 6))\n",
        "plot_series(time_valid, diff_series[split_time - 90:])\n",
        "plot_series(time_valid, diff_moving_avg)\n",
        "plt.show()"
      ],
      "execution_count": 15,
      "outputs": [
        {
          "output_type": "display_data",
          "data": {
            "application/javascript": [
              "\n",
              "    async function download(id, filename, size) {\n",
              "      if (!google.colab.kernel.accessAllowed) {\n",
              "        return;\n",
              "      }\n",
              "      const div = document.createElement('div');\n",
              "      const label = document.createElement('label');\n",
              "      label.textContent = `Downloading \"${filename}\": `;\n",
              "      div.appendChild(label);\n",
              "      const progress = document.createElement('progress');\n",
              "      progress.max = size;\n",
              "      div.appendChild(progress);\n",
              "      document.body.appendChild(div);\n",
              "\n",
              "      const buffers = [];\n",
              "      let downloaded = 0;\n",
              "\n",
              "      const channel = await google.colab.kernel.comms.open(id);\n",
              "      // Send a message to notify the kernel that we're ready.\n",
              "      channel.send({})\n",
              "\n",
              "      for await (const message of channel.messages) {\n",
              "        // Send a message to notify the kernel that we're ready.\n",
              "        channel.send({})\n",
              "        if (message.buffers) {\n",
              "          for (const buffer of message.buffers) {\n",
              "            buffers.push(buffer);\n",
              "            downloaded += buffer.byteLength;\n",
              "            progress.value = downloaded;\n",
              "          }\n",
              "        }\n",
              "      }\n",
              "      const blob = new Blob(buffers, {type: 'application/binary'});\n",
              "      const a = document.createElement('a');\n",
              "      a.href = window.URL.createObjectURL(blob);\n",
              "      a.download = filename;\n",
              "      div.appendChild(a);\n",
              "      a.click();\n",
              "      div.remove();\n",
              "    }\n",
              "  "
            ],
            "text/plain": [
              "<IPython.core.display.Javascript object>"
            ]
          },
          "metadata": {
            "tags": []
          }
        },
        {
          "output_type": "display_data",
          "data": {
            "application/javascript": [
              "download(\"download_5b0061c8-1ad9-4a62-9ca7-eadd5d3eb1b9\", \"new.jpg\", 42331)"
            ],
            "text/plain": [
              "<IPython.core.display.Javascript object>"
            ]
          },
          "metadata": {
            "tags": []
          }
        },
        {
          "output_type": "display_data",
          "data": {
            "application/javascript": [
              "\n",
              "    async function download(id, filename, size) {\n",
              "      if (!google.colab.kernel.accessAllowed) {\n",
              "        return;\n",
              "      }\n",
              "      const div = document.createElement('div');\n",
              "      const label = document.createElement('label');\n",
              "      label.textContent = `Downloading \"${filename}\": `;\n",
              "      div.appendChild(label);\n",
              "      const progress = document.createElement('progress');\n",
              "      progress.max = size;\n",
              "      div.appendChild(progress);\n",
              "      document.body.appendChild(div);\n",
              "\n",
              "      const buffers = [];\n",
              "      let downloaded = 0;\n",
              "\n",
              "      const channel = await google.colab.kernel.comms.open(id);\n",
              "      // Send a message to notify the kernel that we're ready.\n",
              "      channel.send({})\n",
              "\n",
              "      for await (const message of channel.messages) {\n",
              "        // Send a message to notify the kernel that we're ready.\n",
              "        channel.send({})\n",
              "        if (message.buffers) {\n",
              "          for (const buffer of message.buffers) {\n",
              "            buffers.push(buffer);\n",
              "            downloaded += buffer.byteLength;\n",
              "            progress.value = downloaded;\n",
              "          }\n",
              "        }\n",
              "      }\n",
              "      const blob = new Blob(buffers, {type: 'application/binary'});\n",
              "      const a = document.createElement('a');\n",
              "      a.href = window.URL.createObjectURL(blob);\n",
              "      a.download = filename;\n",
              "      div.appendChild(a);\n",
              "      a.click();\n",
              "      div.remove();\n",
              "    }\n",
              "  "
            ],
            "text/plain": [
              "<IPython.core.display.Javascript object>"
            ]
          },
          "metadata": {
            "tags": []
          }
        },
        {
          "output_type": "display_data",
          "data": {
            "application/javascript": [
              "download(\"download_c7268ca1-0917-48c6-9b0e-d2f04c06194f\", \"new.jpg\", 58999)"
            ],
            "text/plain": [
              "<IPython.core.display.Javascript object>"
            ]
          },
          "metadata": {
            "tags": []
          }
        },
        {
          "output_type": "display_data",
          "data": {
            "image/png": "[encoded data removed]",
            "text/plain": [
              "<Figure size 720x432 with 1 Axes>"
            ]
          },
          "metadata": {
            "tags": [],
            "needs_background": "light"
          }
        }
      ]
    },
    {
      "cell_type": "code",
      "metadata": {
        "id": "bMU6W0S2CM6M",
        "colab": {
          "base_uri": "https://localhost:8080/",
          "height": 388
        },
        "outputId": "29292021-880b-4600-abf8-ccfa7db1c210"
      },
      "source": [
        "diff_moving_avg_plus_past = Train[split_time - 90:-90] + diff_moving_avg ## Adding Back the values\n",
        "plt.figure(figsize=(10, 6))\n",
        "plot_series(time_valid, x_valid)\n",
        "plot_series(time_valid, diff_moving_avg_plus_past)\n",
        "plt.show()"
      ],
      "execution_count": 16,
      "outputs": [
        {
          "output_type": "display_data",
          "data": {
            "application/javascript": [
              "\n",
              "    async function download(id, filename, size) {\n",
              "      if (!google.colab.kernel.accessAllowed) {\n",
              "        return;\n",
              "      }\n",
              "      const div = document.createElement('div');\n",
              "      const label = document.createElement('label');\n",
              "      label.textContent = `Downloading \"${filename}\": `;\n",
              "      div.appendChild(label);\n",
              "      const progress = document.createElement('progress');\n",
              "      progress.max = size;\n",
              "      div.appendChild(progress);\n",
              "      document.body.appendChild(div);\n",
              "\n",
              "      const buffers = [];\n",
              "      let downloaded = 0;\n",
              "\n",
              "      const channel = await google.colab.kernel.comms.open(id);\n",
              "      // Send a message to notify the kernel that we're ready.\n",
              "      channel.send({})\n",
              "\n",
              "      for await (const message of channel.messages) {\n",
              "        // Send a message to notify the kernel that we're ready.\n",
              "        channel.send({})\n",
              "        if (message.buffers) {\n",
              "          for (const buffer of message.buffers) {\n",
              "            buffers.push(buffer);\n",
              "            downloaded += buffer.byteLength;\n",
              "            progress.value = downloaded;\n",
              "          }\n",
              "        }\n",
              "      }\n",
              "      const blob = new Blob(buffers, {type: 'application/binary'});\n",
              "      const a = document.createElement('a');\n",
              "      a.href = window.URL.createObjectURL(blob);\n",
              "      a.download = filename;\n",
              "      div.appendChild(a);\n",
              "      a.click();\n",
              "      div.remove();\n",
              "    }\n",
              "  "
            ],
            "text/plain": [
              "<IPython.core.display.Javascript object>"
            ]
          },
          "metadata": {
            "tags": []
          }
        },
        {
          "output_type": "display_data",
          "data": {
            "application/javascript": [
              "download(\"download_897b7527-c34c-4067-a751-a00b97d36c28\", \"new.jpg\", 38590)"
            ],
            "text/plain": [
              "<IPython.core.display.Javascript object>"
            ]
          },
          "metadata": {
            "tags": []
          }
        },
        {
          "output_type": "display_data",
          "data": {
            "application/javascript": [
              "\n",
              "    async function download(id, filename, size) {\n",
              "      if (!google.colab.kernel.accessAllowed) {\n",
              "        return;\n",
              "      }\n",
              "      const div = document.createElement('div');\n",
              "      const label = document.createElement('label');\n",
              "      label.textContent = `Downloading \"${filename}\": `;\n",
              "      div.appendChild(label);\n",
              "      const progress = document.createElement('progress');\n",
              "      progress.max = size;\n",
              "      div.appendChild(progress);\n",
              "      document.body.appendChild(div);\n",
              "\n",
              "      const buffers = [];\n",
              "      let downloaded = 0;\n",
              "\n",
              "      const channel = await google.colab.kernel.comms.open(id);\n",
              "      // Send a message to notify the kernel that we're ready.\n",
              "      channel.send({})\n",
              "\n",
              "      for await (const message of channel.messages) {\n",
              "        // Send a message to notify the kernel that we're ready.\n",
              "        channel.send({})\n",
              "        if (message.buffers) {\n",
              "          for (const buffer of message.buffers) {\n",
              "            buffers.push(buffer);\n",
              "            downloaded += buffer.byteLength;\n",
              "            progress.value = downloaded;\n",
              "          }\n",
              "        }\n",
              "      }\n",
              "      const blob = new Blob(buffers, {type: 'application/binary'});\n",
              "      const a = document.createElement('a');\n",
              "      a.href = window.URL.createObjectURL(blob);\n",
              "      a.download = filename;\n",
              "      div.appendChild(a);\n",
              "      a.click();\n",
              "      div.remove();\n",
              "    }\n",
              "  "
            ],
            "text/plain": [
              "<IPython.core.display.Javascript object>"
            ]
          },
          "metadata": {
            "tags": []
          }
        },
        {
          "output_type": "display_data",
          "data": {
            "application/javascript": [
              "download(\"download_a86d02c1-bf08-4bd8-a27d-9c02adb577d5\", \"new.jpg\", 58945)"
            ],
            "text/plain": [
              "<IPython.core.display.Javascript object>"
            ]
          },
          "metadata": {
            "tags": []
          }
        },
        {
          "output_type": "display_data",
          "data": {
            "image/png": "[encoded data removed]",
            "text/plain": [
              "<Figure size 720x432 with 1 Axes>"
            ]
          },
          "metadata": {
            "tags": [],
            "needs_background": "light"
          }
        }
      ]
    },
    {
      "cell_type": "code",
      "metadata": {
        "id": "CBMNt119CSng",
        "colab": {
          "base_uri": "https://localhost:8080/"
        },
        "outputId": "f0658297-6bb1-4693-d4c3-3f97e5301531"
      },
      "source": [
        "accuracy(x_valid,diff_moving_avg_plus_past)"
      ],
      "execution_count": 45,
      "outputs": [
        {
          "output_type": "stream",
          "text": [
            "MSE :  50870.05675660622\n",
            "MAE:  180.29192573402415\n"
          ],
          "name": "stdout"
        }
      ]
    },
    {
      "cell_type": "markdown",
      "metadata": {
        "id": "mulT0sDIa_qE"
      },
      "source": [
        "###Smoothening the Training series while adding the Moving Avg"
      ]
    },
    {
      "cell_type": "code",
      "metadata": {
        "id": "ejVa5MKoCqmp",
        "colab": {
          "base_uri": "https://localhost:8080/",
          "height": 388
        },
        "outputId": "27e22c3b-ec8f-4f96-e606-89d5c6770621"
      },
      "source": [
        "diff_moving_avg_plus_smooth_past = moving_average_forecast(Train[split_time - 100:-90], 10) + diff_moving_avg #\n",
        "plt.figure(figsize=(10, 6))\n",
        "plot_series(time_valid, x_valid)\n",
        "plot_series(time_valid, diff_moving_avg_plus_smooth_past)\n",
        "plt.show()"
      ],
      "execution_count": 17,
      "outputs": [
        {
          "output_type": "display_data",
          "data": {
            "application/javascript": [
              "\n",
              "    async function download(id, filename, size) {\n",
              "      if (!google.colab.kernel.accessAllowed) {\n",
              "        return;\n",
              "      }\n",
              "      const div = document.createElement('div');\n",
              "      const label = document.createElement('label');\n",
              "      label.textContent = `Downloading \"${filename}\": `;\n",
              "      div.appendChild(label);\n",
              "      const progress = document.createElement('progress');\n",
              "      progress.max = size;\n",
              "      div.appendChild(progress);\n",
              "      document.body.appendChild(div);\n",
              "\n",
              "      const buffers = [];\n",
              "      let downloaded = 0;\n",
              "\n",
              "      const channel = await google.colab.kernel.comms.open(id);\n",
              "      // Send a message to notify the kernel that we're ready.\n",
              "      channel.send({})\n",
              "\n",
              "      for await (const message of channel.messages) {\n",
              "        // Send a message to notify the kernel that we're ready.\n",
              "        channel.send({})\n",
              "        if (message.buffers) {\n",
              "          for (const buffer of message.buffers) {\n",
              "            buffers.push(buffer);\n",
              "            downloaded += buffer.byteLength;\n",
              "            progress.value = downloaded;\n",
              "          }\n",
              "        }\n",
              "      }\n",
              "      const blob = new Blob(buffers, {type: 'application/binary'});\n",
              "      const a = document.createElement('a');\n",
              "      a.href = window.URL.createObjectURL(blob);\n",
              "      a.download = filename;\n",
              "      div.appendChild(a);\n",
              "      a.click();\n",
              "      div.remove();\n",
              "    }\n",
              "  "
            ],
            "text/plain": [
              "<IPython.core.display.Javascript object>"
            ]
          },
          "metadata": {
            "tags": []
          }
        },
        {
          "output_type": "display_data",
          "data": {
            "application/javascript": [
              "download(\"download_0b1bc7f4-2dc5-48a2-8ecf-82608ab58bc3\", \"new.jpg\", 38590)"
            ],
            "text/plain": [
              "<IPython.core.display.Javascript object>"
            ]
          },
          "metadata": {
            "tags": []
          }
        },
        {
          "output_type": "display_data",
          "data": {
            "application/javascript": [
              "\n",
              "    async function download(id, filename, size) {\n",
              "      if (!google.colab.kernel.accessAllowed) {\n",
              "        return;\n",
              "      }\n",
              "      const div = document.createElement('div');\n",
              "      const label = document.createElement('label');\n",
              "      label.textContent = `Downloading \"${filename}\": `;\n",
              "      div.appendChild(label);\n",
              "      const progress = document.createElement('progress');\n",
              "      progress.max = size;\n",
              "      div.appendChild(progress);\n",
              "      document.body.appendChild(div);\n",
              "\n",
              "      const buffers = [];\n",
              "      let downloaded = 0;\n",
              "\n",
              "      const channel = await google.colab.kernel.comms.open(id);\n",
              "      // Send a message to notify the kernel that we're ready.\n",
              "      channel.send({})\n",
              "\n",
              "      for await (const message of channel.messages) {\n",
              "        // Send a message to notify the kernel that we're ready.\n",
              "        channel.send({})\n",
              "        if (message.buffers) {\n",
              "          for (const buffer of message.buffers) {\n",
              "            buffers.push(buffer);\n",
              "            downloaded += buffer.byteLength;\n",
              "            progress.value = downloaded;\n",
              "          }\n",
              "        }\n",
              "      }\n",
              "      const blob = new Blob(buffers, {type: 'application/binary'});\n",
              "      const a = document.createElement('a');\n",
              "      a.href = window.URL.createObjectURL(blob);\n",
              "      a.download = filename;\n",
              "      div.appendChild(a);\n",
              "      a.click();\n",
              "      div.remove();\n",
              "    }\n",
              "  "
            ],
            "text/plain": [
              "<IPython.core.display.Javascript object>"
            ]
          },
          "metadata": {
            "tags": []
          }
        },
        {
          "output_type": "display_data",
          "data": {
            "application/javascript": [
              "download(\"download_0cda9021-cf07-4fca-9b60-054688da6d5d\", \"new.jpg\", 56572)"
            ],
            "text/plain": [
              "<IPython.core.display.Javascript object>"
            ]
          },
          "metadata": {
            "tags": []
          }
        },
        {
          "output_type": "display_data",
          "data": {
            "image/png": "[encoded data removed]",
            "text/plain": [
              "<Figure size 720x432 with 1 Axes>"
            ]
          },
          "metadata": {
            "tags": [],
            "needs_background": "light"
          }
        }
      ]
    },
    {
      "cell_type": "code",
      "metadata": {
        "id": "69qEdAfFD_JK",
        "colab": {
          "base_uri": "https://localhost:8080/"
        },
        "outputId": "5841b0ab-60f4-42e9-88fa-1f88105bfb84"
      },
      "source": [
        "accuracy(x_valid,diff_moving_avg_plus_smooth_past)"
      ],
      "execution_count": 18,
      "outputs": [
        {
          "output_type": "stream",
          "text": [
            "MSE :  37266.263702515105\n",
            "MAE:  156.27618523316062\n"
          ],
          "name": "stdout"
        }
      ]
    },
    {
      "cell_type": "markdown",
      "metadata": {
        "id": "QBbNJpQdJzzf"
      },
      "source": [
        "### Input pipeline"
      ]
    },
    {
      "cell_type": "code",
      "metadata": {
        "id": "oGNefwnGENQx"
      },
      "source": [
        "def windowed_dataset(series, window_size, batch_size, shuffle_buffer):\n",
        "  dataset = tf.data.Dataset.from_tensor_slices(series)\n",
        "  dataset = dataset.window(window_size + 1, shift=1, drop_remainder=True)\n",
        "  dataset = dataset.flat_map(lambda window: window.batch(window_size + 1))\n",
        "  dataset = dataset.shuffle(shuffle_buffer).map(lambda window: (window[:-1], window[-1]))\n",
        "  dataset = dataset.batch(batch_size).prefetch(1)\n",
        "  return dataset"
      ],
      "execution_count": 19,
      "outputs": []
    },
    {
      "cell_type": "code",
      "metadata": {
        "id": "8PnmOyatSj7x"
      },
      "source": [
        "window_size = 90\n",
        "batch_size =  128\n",
        "shuffle_buffer_size = len(x_train)"
      ],
      "execution_count": 20,
      "outputs": []
    },
    {
      "cell_type": "markdown",
      "metadata": {
        "id": "ViHYI9ATKbj_"
      },
      "source": [
        "## Dense Network"
      ]
    },
    {
      "cell_type": "code",
      "metadata": {
        "id": "qEFipIRJSpb8",
        "colab": {
          "base_uri": "https://localhost:8080/"
        },
        "outputId": "2f7835b6-c69a-44f1-ce68-8bedbca104cd"
      },
      "source": [
        "dataset = windowed_dataset(x_train, window_size, batch_size, shuffle_buffer_size)\n",
        "print(dataset)\n",
        "model = tf.keras.models.Sequential([\n",
        "    tf.keras.layers.Dense(1000, input_shape=[window_size], activation=\"relu\"), \n",
        "    tf.keras.layers.Dense(500, activation=\"relu\"), \n",
        "    tf.keras.layers.Dense(1)\n",
        "])\n",
        "\n",
        "\n",
        "#lr_schedule = tf.keras.callbacks.LearningRateScheduler(\n",
        "    #lambda epoch: 1e-8 * 10**(epoch / 20))\n",
        "optimizer = tf.keras.optimizers.SGD(lr=1e-8)\n",
        "model.compile(loss=\"mse\", optimizer=optimizer)\n",
        "history = model.fit(dataset, epochs=100, verbose=2 )"
      ],
      "execution_count": 21,
      "outputs": [
        {
          "output_type": "stream",
          "text": [
            "<PrefetchDataset shapes: ((None, None), (None,)), types: (tf.float64, tf.float64)>\n",
            "Epoch 1/100\n",
            "34/34 - 1s - loss: 2974227.0000\n",
            "Epoch 2/100\n",
            "34/34 - 1s - loss: 20562.8867\n",
            "Epoch 3/100\n",
            "34/34 - 1s - loss: 17795.5371\n",
            "Epoch 4/100\n",
            "34/34 - 1s - loss: 16079.6504\n",
            "Epoch 5/100\n",
            "34/34 - 1s - loss: 14287.2305\n",
            "Epoch 6/100\n",
            "34/34 - 1s - loss: 13174.5400\n",
            "Epoch 7/100\n",
            "34/34 - 1s - loss: 12310.3506\n",
            "Epoch 8/100\n",
            "34/34 - 1s - loss: 11244.4219\n",
            "Epoch 9/100\n",
            "34/34 - 1s - loss: 10447.3037\n",
            "Epoch 10/100\n",
            "34/34 - 1s - loss: 9441.2842\n",
            "Epoch 11/100\n",
            "34/34 - 1s - loss: 8891.5059\n",
            "Epoch 12/100\n",
            "34/34 - 1s - loss: 8323.8301\n",
            "Epoch 13/100\n",
            "34/34 - 1s - loss: 7897.1968\n",
            "Epoch 14/100\n",
            "34/34 - 1s - loss: 7604.4878\n",
            "Epoch 15/100\n",
            "34/34 - 1s - loss: 7207.4473\n",
            "Epoch 16/100\n",
            "34/34 - 1s - loss: 7233.5073\n",
            "Epoch 17/100\n",
            "34/34 - 1s - loss: 6762.0610\n",
            "Epoch 18/100\n",
            "34/34 - 1s - loss: 6431.2158\n",
            "Epoch 19/100\n",
            "34/34 - 1s - loss: 6251.7979\n",
            "Epoch 20/100\n",
            "34/34 - 1s - loss: 6182.1470\n",
            "Epoch 21/100\n",
            "34/34 - 1s - loss: 5795.1797\n",
            "Epoch 22/100\n",
            "34/34 - 1s - loss: 5857.1494\n",
            "Epoch 23/100\n",
            "34/34 - 1s - loss: 5635.9858\n",
            "Epoch 24/100\n",
            "34/34 - 1s - loss: 5551.6860\n",
            "Epoch 25/100\n",
            "34/34 - 1s - loss: 5431.3608\n",
            "Epoch 26/100\n",
            "34/34 - 1s - loss: 5146.5957\n",
            "Epoch 27/100\n",
            "34/34 - 1s - loss: 5164.8516\n",
            "Epoch 28/100\n",
            "34/34 - 1s - loss: 5176.6069\n",
            "Epoch 29/100\n",
            "34/34 - 1s - loss: 5028.1982\n",
            "Epoch 30/100\n",
            "34/34 - 1s - loss: 4979.2676\n",
            "Epoch 31/100\n",
            "34/34 - 1s - loss: 4783.8018\n",
            "Epoch 32/100\n",
            "34/34 - 1s - loss: 4857.5293\n",
            "Epoch 33/100\n",
            "34/34 - 1s - loss: 4751.3213\n",
            "Epoch 34/100\n",
            "34/34 - 1s - loss: 4734.6880\n",
            "Epoch 35/100\n",
            "34/34 - 1s - loss: 4582.7402\n",
            "Epoch 36/100\n",
            "34/34 - 1s - loss: 4729.5005\n",
            "Epoch 37/100\n",
            "34/34 - 1s - loss: 4602.9663\n",
            "Epoch 38/100\n",
            "34/34 - 1s - loss: 4389.2251\n",
            "Epoch 39/100\n",
            "34/34 - 1s - loss: 4324.3442\n",
            "Epoch 40/100\n",
            "34/34 - 1s - loss: 4584.9878\n",
            "Epoch 41/100\n",
            "34/34 - 1s - loss: 4395.9058\n",
            "Epoch 42/100\n",
            "34/34 - 1s - loss: 4323.1875\n",
            "Epoch 43/100\n",
            "34/34 - 1s - loss: 4224.0400\n",
            "Epoch 44/100\n",
            "34/34 - 1s - loss: 4281.3872\n",
            "Epoch 45/100\n",
            "34/34 - 1s - loss: 4325.3652\n",
            "Epoch 46/100\n",
            "34/34 - 1s - loss: 4142.9800\n",
            "Epoch 47/100\n",
            "34/34 - 1s - loss: 3997.6172\n",
            "Epoch 48/100\n",
            "34/34 - 1s - loss: 4064.4856\n",
            "Epoch 49/100\n",
            "34/34 - 1s - loss: 3909.4946\n",
            "Epoch 50/100\n",
            "34/34 - 1s - loss: 4035.3503\n",
            "Epoch 51/100\n",
            "34/34 - 1s - loss: 3922.4922\n",
            "Epoch 52/100\n",
            "34/34 - 1s - loss: 3798.5564\n",
            "Epoch 53/100\n",
            "34/34 - 1s - loss: 3771.6672\n",
            "Epoch 54/100\n",
            "34/34 - 1s - loss: 3955.7144\n",
            "Epoch 55/100\n",
            "34/34 - 1s - loss: 3850.5457\n",
            "Epoch 56/100\n",
            "34/34 - 1s - loss: 3767.8569\n",
            "Epoch 57/100\n",
            "34/34 - 1s - loss: 3615.3037\n",
            "Epoch 58/100\n",
            "34/34 - 1s - loss: 3715.4580\n",
            "Epoch 59/100\n",
            "34/34 - 1s - loss: 3552.7114\n",
            "Epoch 60/100\n",
            "34/34 - 1s - loss: 3543.5029\n",
            "Epoch 61/100\n",
            "34/34 - 1s - loss: 3908.4727\n",
            "Epoch 62/100\n",
            "34/34 - 1s - loss: 3604.1428\n",
            "Epoch 63/100\n",
            "34/34 - 1s - loss: 3773.0471\n",
            "Epoch 64/100\n",
            "34/34 - 1s - loss: 3873.0259\n",
            "Epoch 65/100\n",
            "34/34 - 1s - loss: 3558.3274\n",
            "Epoch 66/100\n",
            "34/34 - 1s - loss: 3471.9839\n",
            "Epoch 67/100\n",
            "34/34 - 1s - loss: 3295.1284\n",
            "Epoch 68/100\n",
            "34/34 - 1s - loss: 3482.2705\n",
            "Epoch 69/100\n",
            "34/34 - 1s - loss: 3342.2417\n",
            "Epoch 70/100\n",
            "34/34 - 1s - loss: 3670.9397\n",
            "Epoch 71/100\n",
            "34/34 - 1s - loss: 3391.4058\n",
            "Epoch 72/100\n",
            "34/34 - 1s - loss: 4057.9590\n",
            "Epoch 73/100\n",
            "34/34 - 1s - loss: 3813.9480\n",
            "Epoch 74/100\n",
            "34/34 - 1s - loss: 3179.4802\n",
            "Epoch 75/100\n",
            "34/34 - 1s - loss: 3330.4805\n",
            "Epoch 76/100\n",
            "34/34 - 1s - loss: 3304.8145\n",
            "Epoch 77/100\n",
            "34/34 - 1s - loss: 3365.0203\n",
            "Epoch 78/100\n",
            "34/34 - 1s - loss: 3386.1636\n",
            "Epoch 79/100\n",
            "34/34 - 1s - loss: 3631.1370\n",
            "Epoch 80/100\n",
            "34/34 - 1s - loss: 3121.1052\n",
            "Epoch 81/100\n",
            "34/34 - 1s - loss: 3306.8408\n",
            "Epoch 82/100\n",
            "34/34 - 1s - loss: 3292.1995\n",
            "Epoch 83/100\n",
            "34/34 - 1s - loss: 3416.1262\n",
            "Epoch 84/100\n",
            "34/34 - 1s - loss: 3525.2969\n",
            "Epoch 85/100\n",
            "34/34 - 1s - loss: 3329.9114\n",
            "Epoch 86/100\n",
            "34/34 - 1s - loss: 4281.5498\n",
            "Epoch 87/100\n",
            "34/34 - 1s - loss: 3078.0796\n",
            "Epoch 88/100\n",
            "34/34 - 1s - loss: 3535.8174\n",
            "Epoch 89/100\n",
            "34/34 - 1s - loss: 3002.7485\n",
            "Epoch 90/100\n",
            "34/34 - 1s - loss: 3156.8391\n",
            "Epoch 91/100\n",
            "34/34 - 1s - loss: 3365.3669\n",
            "Epoch 92/100\n",
            "34/34 - 1s - loss: 3157.6450\n",
            "Epoch 93/100\n",
            "34/34 - 1s - loss: 3747.4404\n",
            "Epoch 94/100\n",
            "34/34 - 1s - loss: 3056.1963\n",
            "Epoch 95/100\n",
            "34/34 - 1s - loss: 3928.9148\n",
            "Epoch 96/100\n",
            "34/34 - 1s - loss: 3033.5696\n",
            "Epoch 97/100\n",
            "34/34 - 1s - loss: 2907.0964\n",
            "Epoch 98/100\n",
            "34/34 - 1s - loss: 2871.6743\n",
            "Epoch 99/100\n",
            "34/34 - 1s - loss: 3243.9983\n",
            "Epoch 100/100\n",
            "34/34 - 1s - loss: 2972.7595\n"
          ],
          "name": "stdout"
        }
      ]
    },
    {
      "cell_type": "code",
      "metadata": {
        "id": "vLJLI4_1PrWd"
      },
      "source": [
        ""
      ],
      "execution_count": null,
      "outputs": []
    },
    {
      "cell_type": "code",
      "metadata": {
        "id": "F0LMFeXISv6k",
        "colab": {
          "base_uri": "https://localhost:8080/",
          "height": 388
        },
        "outputId": "177933d0-7fac-48f7-d984-00da2a7e9f02"
      },
      "source": [
        "forecast = []\n",
        "for time in range(len(Train) - window_size):\n",
        "  forecast.append(model.predict(np.array(Train[time:time + window_size])[np.newaxis]))\n",
        "forecast = forecast[split_time-window_size:]\n",
        "results = np.array(forecast)[:, 0, 0]\n",
        "plt.figure(figsize=(10, 6))\n",
        "plot_series(time_valid, x_valid)\n",
        "plot_series(time_valid, results)"
      ],
      "execution_count": 22,
      "outputs": [
        {
          "output_type": "display_data",
          "data": {
            "application/javascript": [
              "\n",
              "    async function download(id, filename, size) {\n",
              "      if (!google.colab.kernel.accessAllowed) {\n",
              "        return;\n",
              "      }\n",
              "      const div = document.createElement('div');\n",
              "      const label = document.createElement('label');\n",
              "      label.textContent = `Downloading \"${filename}\": `;\n",
              "      div.appendChild(label);\n",
              "      const progress = document.createElement('progress');\n",
              "      progress.max = size;\n",
              "      div.appendChild(progress);\n",
              "      document.body.appendChild(div);\n",
              "\n",
              "      const buffers = [];\n",
              "      let downloaded = 0;\n",
              "\n",
              "      const channel = await google.colab.kernel.comms.open(id);\n",
              "      // Send a message to notify the kernel that we're ready.\n",
              "      channel.send({})\n",
              "\n",
              "      for await (const message of channel.messages) {\n",
              "        // Send a message to notify the kernel that we're ready.\n",
              "        channel.send({})\n",
              "        if (message.buffers) {\n",
              "          for (const buffer of message.buffers) {\n",
              "            buffers.push(buffer);\n",
              "            downloaded += buffer.byteLength;\n",
              "            progress.value = downloaded;\n",
              "          }\n",
              "        }\n",
              "      }\n",
              "      const blob = new Blob(buffers, {type: 'application/binary'});\n",
              "      const a = document.createElement('a');\n",
              "      a.href = window.URL.createObjectURL(blob);\n",
              "      a.download = filename;\n",
              "      div.appendChild(a);\n",
              "      a.click();\n",
              "      div.remove();\n",
              "    }\n",
              "  "
            ],
            "text/plain": [
              "<IPython.core.display.Javascript object>"
            ]
          },
          "metadata": {
            "tags": []
          }
        },
        {
          "output_type": "display_data",
          "data": {
            "application/javascript": [
              "download(\"download_f6c890be-f7af-478f-ad7d-9443c032d5a6\", \"new.jpg\", 38590)"
            ],
            "text/plain": [
              "<IPython.core.display.Javascript object>"
            ]
          },
          "metadata": {
            "tags": []
          }
        },
        {
          "output_type": "display_data",
          "data": {
            "application/javascript": [
              "\n",
              "    async function download(id, filename, size) {\n",
              "      if (!google.colab.kernel.accessAllowed) {\n",
              "        return;\n",
              "      }\n",
              "      const div = document.createElement('div');\n",
              "      const label = document.createElement('label');\n",
              "      label.textContent = `Downloading \"${filename}\": `;\n",
              "      div.appendChild(label);\n",
              "      const progress = document.createElement('progress');\n",
              "      progress.max = size;\n",
              "      div.appendChild(progress);\n",
              "      document.body.appendChild(div);\n",
              "\n",
              "      const buffers = [];\n",
              "      let downloaded = 0;\n",
              "\n",
              "      const channel = await google.colab.kernel.comms.open(id);\n",
              "      // Send a message to notify the kernel that we're ready.\n",
              "      channel.send({})\n",
              "\n",
              "      for await (const message of channel.messages) {\n",
              "        // Send a message to notify the kernel that we're ready.\n",
              "        channel.send({})\n",
              "        if (message.buffers) {\n",
              "          for (const buffer of message.buffers) {\n",
              "            buffers.push(buffer);\n",
              "            downloaded += buffer.byteLength;\n",
              "            progress.value = downloaded;\n",
              "          }\n",
              "        }\n",
              "      }\n",
              "      const blob = new Blob(buffers, {type: 'application/binary'});\n",
              "      const a = document.createElement('a');\n",
              "      a.href = window.URL.createObjectURL(blob);\n",
              "      a.download = filename;\n",
              "      div.appendChild(a);\n",
              "      a.click();\n",
              "      div.remove();\n",
              "    }\n",
              "  "
            ],
            "text/plain": [
              "<IPython.core.display.Javascript object>"
            ]
          },
          "metadata": {
            "tags": []
          }
        },
        {
          "output_type": "display_data",
          "data": {
            "application/javascript": [
              "download(\"download_dcce66a1-39a3-4fbe-9bd2-d3ccff6f85e8\", \"new.jpg\", 54771)"
            ],
            "text/plain": [
              "<IPython.core.display.Javascript object>"
            ]
          },
          "metadata": {
            "tags": []
          }
        },
        {
          "output_type": "display_data",
          "data": {
            "image/png": "[encoded data removed]",
            "text/plain": [
              "<Figure size 720x432 with 1 Axes>"
            ]
          },
          "metadata": {
            "tags": [],
            "needs_background": "light"
          }
        }
      ]
    },
    {
      "cell_type": "code",
      "metadata": {
        "id": "yyIGwgBBUQiz",
        "colab": {
          "base_uri": "https://localhost:8080/"
        },
        "outputId": "ede693f0-92d4-41e5-f4d3-bdc7f2182126"
      },
      "source": [
        "accuracy(x_valid,results)"
      ],
      "execution_count": 23,
      "outputs": [
        {
          "output_type": "stream",
          "text": [
            "MSE :  11013.445\n",
            "MAE:  82.419106\n"
          ],
          "name": "stdout"
        }
      ]
    },
    {
      "cell_type": "markdown",
      "metadata": {
        "id": "DcRFc4rzKkGo"
      },
      "source": [
        "### LSTM"
      ]
    },
    {
      "cell_type": "markdown",
      "metadata": {
        "id": "6clNrTQjRZUQ"
      },
      "source": [
        "####Choosing a learning rate + Window_size + Batch Size"
      ]
    },
    {
      "cell_type": "code",
      "metadata": {
        "id": "_8LIU07YJPvH",
        "colab": {
          "base_uri": "https://localhost:8080/"
        },
        "outputId": "c3303b1a-73a3-4f98-abd8-04225522b3ed"
      },
      "source": [
        "window_size = 90  # Hyperparams\n",
        "batch_size =  128 # Hyperparams\n",
        "shuffle_buffer_size = len(x_train)\n",
        "model = tf.keras.models.Sequential([\n",
        "  tf.keras.layers.Lambda(lambda x: tf.expand_dims(x, axis=-1),\n",
        "                      input_shape=[None]),\n",
        "    tf.keras.layers.Bidirectional(tf.keras.layers.LSTM(64, return_sequences=True)),\n",
        "  tf.keras.layers.Bidirectional(tf.keras.layers.LSTM(64)),\n",
        "  tf.keras.layers.Dense(1000,activation=\"relu\"),\n",
        "   tf.keras.layers.Dense(500,activation=\"relu\"),\n",
        "  tf.keras.layers.Dense(1),\n",
        "  tf.keras.layers.Lambda(lambda x: x * 30000.0) \n",
        "])\n",
        "\n",
        "lr_schedule = tf.keras.callbacks.LearningRateScheduler(\n",
        "    lambda epoch: 5e-6 * 10**(epoch / 20))\n",
        "optimizer = tf.keras.optimizers.Adam()\n",
        "model.compile(loss=tf.keras.losses.Huber(),\n",
        "              optimizer=optimizer,\n",
        "              metrics=[\"mse\"])\n",
        "history = model.fit(dataset, epochs=100,verbose=2,callbacks=[lr_schedule])"
      ],
      "execution_count": 56,
      "outputs": [
        {
          "output_type": "stream",
          "text": [
            "Epoch 1/100\n",
            "34/34 - 21s - loss: 924.8585 - mse: 1339514.2500\n",
            "Epoch 2/100\n",
            "34/34 - 15s - loss: 350.9736 - mse: 282064.8125\n",
            "Epoch 3/100\n",
            "34/34 - 15s - loss: 269.5466 - mse: 191270.4688\n",
            "Epoch 4/100\n",
            "34/34 - 15s - loss: 231.9640 - mse: 169734.7500\n",
            "Epoch 5/100\n",
            "34/34 - 15s - loss: 219.2324 - mse: 154779.3594\n",
            "Epoch 6/100\n",
            "34/34 - 15s - loss: 208.9357 - mse: 139786.8438\n",
            "Epoch 7/100\n",
            "34/34 - 15s - loss: 211.4149 - mse: 130449.8594\n",
            "Epoch 8/100\n",
            "34/34 - 15s - loss: 187.1312 - mse: 113586.2734\n",
            "Epoch 9/100\n",
            "34/34 - 16s - loss: 174.3430 - mse: 95785.3828\n",
            "Epoch 10/100\n",
            "34/34 - 15s - loss: 139.4210 - mse: 58673.3125\n",
            "Epoch 11/100\n",
            "34/34 - 15s - loss: 100.2103 - mse: 25007.1914\n",
            "Epoch 12/100\n",
            "34/34 - 15s - loss: 117.4115 - mse: 23931.0039\n",
            "Epoch 13/100\n",
            "34/34 - 15s - loss: 80.8909 - mse: 13993.5664\n",
            "Epoch 14/100\n",
            "34/34 - 15s - loss: 84.5790 - mse: 14131.1465\n",
            "Epoch 15/100\n",
            "34/34 - 15s - loss: 120.3119 - mse: 22653.6270\n",
            "Epoch 16/100\n",
            "34/34 - 15s - loss: 90.6708 - mse: 15032.7783\n",
            "Epoch 17/100\n",
            "34/34 - 15s - loss: 118.2351 - mse: 22435.8965\n",
            "Epoch 18/100\n",
            "34/34 - 15s - loss: 138.8318 - mse: 27268.1973\n",
            "Epoch 19/100\n",
            "34/34 - 15s - loss: 123.1361 - mse: 24394.5156\n",
            "Epoch 20/100\n",
            "34/34 - 15s - loss: 166.9086 - mse: 38169.8633\n",
            "Epoch 21/100\n",
            "34/34 - 15s - loss: 136.1757 - mse: 30963.8359\n",
            "Epoch 22/100\n",
            "34/34 - 15s - loss: 167.9622 - mse: 40729.5469\n",
            "Epoch 23/100\n",
            "34/34 - 15s - loss: 329.2665 - mse: 141994.7969\n",
            "Epoch 24/100\n",
            "34/34 - 15s - loss: 386.7173 - mse: 176422.9688\n",
            "Epoch 25/100\n",
            "34/34 - 15s - loss: 381.1071 - mse: 181002.9531\n",
            "Epoch 26/100\n",
            "34/34 - 15s - loss: 245.7052 - mse: 89486.3906\n",
            "Epoch 27/100\n",
            "34/34 - 15s - loss: 186.5090 - mse: 50488.1797\n",
            "Epoch 28/100\n",
            "34/34 - 15s - loss: 419.1169 - mse: 238302.9531\n",
            "Epoch 29/100\n",
            "34/34 - 15s - loss: 193.1308 - mse: 59292.2656\n",
            "Epoch 30/100\n",
            "34/34 - 15s - loss: 249.9523 - mse: 84790.0469\n",
            "Epoch 31/100\n",
            "34/34 - 15s - loss: 314.6898 - mse: 143745.5781\n",
            "Epoch 32/100\n",
            "34/34 - 15s - loss: 504.5553 - mse: 321514.0625\n",
            "Epoch 33/100\n",
            "34/34 - 15s - loss: 251.0235 - mse: 98472.4844\n",
            "Epoch 34/100\n",
            "34/34 - 15s - loss: 267.1444 - mse: 103236.9844\n",
            "Epoch 35/100\n",
            "34/34 - 15s - loss: 301.9972 - mse: 121009.2969\n",
            "Epoch 36/100\n",
            "34/34 - 15s - loss: 219.4881 - mse: 82633.8516\n",
            "Epoch 37/100\n",
            "34/34 - 15s - loss: 437.3143 - mse: 292660.8750\n",
            "Epoch 38/100\n",
            "34/34 - 15s - loss: 284.5239 - mse: 121448.6953\n",
            "Epoch 39/100\n",
            "34/34 - 15s - loss: 237.1272 - mse: 83100.2500\n",
            "Epoch 40/100\n",
            "34/34 - 15s - loss: 181.8762 - mse: 56481.6914\n",
            "Epoch 41/100\n",
            "34/34 - 15s - loss: 257.5818 - mse: 99285.6250\n",
            "Epoch 42/100\n",
            "34/34 - 15s - loss: 290.1368 - mse: 120458.2969\n",
            "Epoch 43/100\n",
            "34/34 - 15s - loss: 289.5352 - mse: 133477.4844\n",
            "Epoch 44/100\n",
            "34/34 - 15s - loss: 185.8748 - mse: 53520.5781\n",
            "Epoch 45/100\n",
            "34/34 - 15s - loss: 220.1433 - mse: 74405.9453\n",
            "Epoch 46/100\n",
            "34/34 - 15s - loss: 188.3244 - mse: 57715.6992\n",
            "Epoch 47/100\n",
            "34/34 - 15s - loss: 182.9812 - mse: 56050.0039\n",
            "Epoch 48/100\n",
            "34/34 - 15s - loss: 308.7059 - mse: 147374.1875\n",
            "Epoch 49/100\n",
            "34/34 - 15s - loss: 200.3568 - mse: 73206.7500\n",
            "Epoch 50/100\n",
            "34/34 - 15s - loss: 209.3479 - mse: 73369.8750\n",
            "Epoch 51/100\n",
            "34/34 - 15s - loss: 258.4350 - mse: 113350.9453\n",
            "Epoch 52/100\n",
            "34/34 - 15s - loss: 180.3995 - mse: 59210.6797\n",
            "Epoch 53/100\n",
            "34/34 - 15s - loss: 152.3511 - mse: 42867.0039\n",
            "Epoch 54/100\n",
            "34/34 - 15s - loss: 137.9911 - mse: 38517.0781\n",
            "Epoch 55/100\n",
            "34/34 - 15s - loss: 125.2214 - mse: 32535.4180\n",
            "Epoch 56/100\n",
            "34/34 - 15s - loss: 342.6964 - mse: 215689.1875\n",
            "Epoch 57/100\n",
            "34/34 - 15s - loss: 298.7574 - mse: 176019.2656\n",
            "Epoch 58/100\n",
            "34/34 - 15s - loss: 288.6825 - mse: 171562.0312\n",
            "Epoch 59/100\n",
            "34/34 - 15s - loss: 255.2827 - mse: 134749.1875\n",
            "Epoch 60/100\n",
            "34/34 - 15s - loss: 321.7873 - mse: 188118.4844\n",
            "Epoch 61/100\n",
            "34/34 - 15s - loss: 312.3738 - mse: 242141.4375\n",
            "Epoch 62/100\n",
            "34/34 - 15s - loss: 332.1517 - mse: 222192.2500\n",
            "Epoch 63/100\n",
            "34/34 - 15s - loss: 314.9434 - mse: 218402.9375\n",
            "Epoch 64/100\n",
            "34/34 - 15s - loss: 420.3272 - mse: 359037.2500\n",
            "Epoch 65/100\n",
            "34/34 - 15s - loss: 597.8832 - mse: 697345.4375\n",
            "Epoch 66/100\n",
            "34/34 - 15s - loss: 450.8073 - mse: 360271.4688\n",
            "Epoch 67/100\n",
            "34/34 - 15s - loss: 355.3582 - mse: 251444.1094\n",
            "Epoch 68/100\n",
            "34/34 - 15s - loss: 318.1006 - mse: 220085.5312\n",
            "Epoch 69/100\n",
            "34/34 - 15s - loss: 890.5795 - mse: 1542411.3750\n",
            "Epoch 70/100\n",
            "34/34 - 15s - loss: 819.3910 - mse: 1068498.2500\n",
            "Epoch 71/100\n",
            "34/34 - 15s - loss: 821.0242 - mse: 1065877.8750\n",
            "Epoch 72/100\n",
            "34/34 - 15s - loss: 812.4849 - mse: 1005531.3750\n",
            "Epoch 73/100\n",
            "34/34 - 15s - loss: 826.9025 - mse: 1035614.8125\n",
            "Epoch 74/100\n",
            "34/34 - 15s - loss: 822.4993 - mse: 1076687.5000\n",
            "Epoch 75/100\n",
            "34/34 - 15s - loss: 821.9803 - mse: 1077140.2500\n",
            "Epoch 76/100\n",
            "34/34 - 15s - loss: 822.7621 - mse: 1077478.2500\n",
            "Epoch 77/100\n",
            "34/34 - 15s - loss: 822.8722 - mse: 1070379.8750\n",
            "Epoch 78/100\n",
            "34/34 - 15s - loss: 824.1848 - mse: 1060537.6250\n",
            "Epoch 79/100\n",
            "34/34 - 15s - loss: 820.9175 - mse: 1087452.1250\n",
            "Epoch 80/100\n",
            "34/34 - 15s - loss: 821.2245 - mse: 1080965.8750\n",
            "Epoch 81/100\n",
            "34/34 - 15s - loss: 906.3356 - mse: 1253295.5000\n",
            "Epoch 82/100\n",
            "34/34 - 15s - loss: 830.1403 - mse: 1025446.8750\n",
            "Epoch 83/100\n",
            "34/34 - 15s - loss: 827.6227 - mse: 1050185.2500\n",
            "Epoch 84/100\n",
            "34/34 - 15s - loss: 830.5446 - mse: 1015678.0625\n",
            "Epoch 85/100\n",
            "34/34 - 15s - loss: 7341.2690 - mse: 556239232.0000\n",
            "Epoch 86/100\n",
            "34/34 - 15s - loss: 614987.5625 - mse: 1821173481472.0000\n",
            "Epoch 87/100\n",
            "34/34 - 15s - loss: 9522.9473 - mse: 146051056.0000\n",
            "Epoch 88/100\n",
            "34/34 - 15s - loss: 3729.2888 - mse: 22121754.0000\n",
            "Epoch 89/100\n",
            "34/34 - 15s - loss: 1287.6239 - mse: 2490027.0000\n",
            "Epoch 90/100\n",
            "34/34 - 15s - loss: 926.2405 - mse: 1303216.8750\n",
            "Epoch 91/100\n",
            "34/34 - 15s - loss: 984.9575 - mse: 1456918.5000\n",
            "Epoch 92/100\n",
            "34/34 - 15s - loss: 956.6989 - mse: 1392373.1250\n",
            "Epoch 93/100\n",
            "34/34 - 15s - loss: 964.7854 - mse: 1391866.1250\n",
            "Epoch 94/100\n",
            "34/34 - 15s - loss: 1084.1930 - mse: 1761013.0000\n",
            "Epoch 95/100\n",
            "34/34 - 15s - loss: 1023.2902 - mse: 1600282.3750\n",
            "Epoch 96/100\n",
            "34/34 - 15s - loss: 1032.8408 - mse: 1607318.2500\n",
            "Epoch 97/100\n",
            "34/34 - 15s - loss: 1352.5282 - mse: 2666609.0000\n",
            "Epoch 98/100\n",
            "34/34 - 15s - loss: 1070.9116 - mse: 1728043.1250\n",
            "Epoch 99/100\n",
            "34/34 - 15s - loss: 887.6484 - mse: 1177544.1250\n",
            "Epoch 100/100\n",
            "34/34 - 15s - loss: 906.4551 - mse: 1244097.7500\n"
          ],
          "name": "stdout"
        }
      ]
    },
    {
      "cell_type": "code",
      "metadata": {
        "colab": {
          "base_uri": "https://localhost:8080/",
          "height": 273
        },
        "id": "io92tTySw0rp",
        "outputId": "36a49e2d-4501-4ba6-9076-461a2b16c9b2"
      },
      "source": [
        "\r\n",
        "plt.semilogx(history.history[\"lr\"], history.history[\"loss\"])\r\n",
        "plt.axis([1e-6, 1e-2, 0, 1000])\r\n",
        "plt.savefig('learningrateZoomed.jpg')\r\n",
        "files.download('learningrateZoomed.jpg') "
      ],
      "execution_count": 60,
      "outputs": [
        {
          "output_type": "display_data",
          "data": {
            "application/javascript": [
              "\n",
              "    async function download(id, filename, size) {\n",
              "      if (!google.colab.kernel.accessAllowed) {\n",
              "        return;\n",
              "      }\n",
              "      const div = document.createElement('div');\n",
              "      const label = document.createElement('label');\n",
              "      label.textContent = `Downloading \"${filename}\": `;\n",
              "      div.appendChild(label);\n",
              "      const progress = document.createElement('progress');\n",
              "      progress.max = size;\n",
              "      div.appendChild(progress);\n",
              "      document.body.appendChild(div);\n",
              "\n",
              "      const buffers = [];\n",
              "      let downloaded = 0;\n",
              "\n",
              "      const channel = await google.colab.kernel.comms.open(id);\n",
              "      // Send a message to notify the kernel that we're ready.\n",
              "      channel.send({})\n",
              "\n",
              "      for await (const message of channel.messages) {\n",
              "        // Send a message to notify the kernel that we're ready.\n",
              "        channel.send({})\n",
              "        if (message.buffers) {\n",
              "          for (const buffer of message.buffers) {\n",
              "            buffers.push(buffer);\n",
              "            downloaded += buffer.byteLength;\n",
              "            progress.value = downloaded;\n",
              "          }\n",
              "        }\n",
              "      }\n",
              "      const blob = new Blob(buffers, {type: 'application/binary'});\n",
              "      const a = document.createElement('a');\n",
              "      a.href = window.URL.createObjectURL(blob);\n",
              "      a.download = filename;\n",
              "      div.appendChild(a);\n",
              "      a.click();\n",
              "      div.remove();\n",
              "    }\n",
              "  "
            ],
            "text/plain": [
              "<IPython.core.display.Javascript object>"
            ]
          },
          "metadata": {
            "tags": []
          }
        },
        {
          "output_type": "display_data",
          "data": {
            "application/javascript": [
              "download(\"download_88784d89-9e9d-4ac4-bef0-95d2c6e6eb44\", \"learningrateZoomed.jpg\", 18455)"
            ],
            "text/plain": [
              "<IPython.core.display.Javascript object>"
            ]
          },
          "metadata": {
            "tags": []
          }
        },
        {
          "output_type": "display_data",
          "data": {
            "image/png": "[encoded data removed]",
            "text/plain": [
              "<Figure size 432x288 with 1 Axes>"
            ]
          },
          "metadata": {
            "tags": [],
            "needs_background": "light"
          }
        }
      ]
    },
    {
      "cell_type": "code",
      "metadata": {
        "colab": {
          "base_uri": "https://localhost:8080/"
        },
        "id": "idqBkmsAgCJd",
        "outputId": "7a51b23f-e2b6-443c-a692-756105d6993c"
      },
      "source": [
        "window_size = 90  # Hyperparams\r\n",
        "batch_size =  256 # Hyperparams\r\n",
        "dataset = windowed_dataset(x_train, window_size, batch_size, shuffle_buffer_size)\r\n",
        "model = tf.keras.models.Sequential([\r\n",
        "  tf.keras.layers.Lambda(lambda x: tf.expand_dims(x, axis=-1),\r\n",
        "                      input_shape=[None]),\r\n",
        "    tf.keras.layers.Bidirectional(tf.keras.layers.LSTM(64, return_sequences=True)),\r\n",
        "  tf.keras.layers.Bidirectional(tf.keras.layers.LSTM(64)),\r\n",
        "  tf.keras.layers.Dense(1000,activation=\"relu\"),\r\n",
        "   tf.keras.layers.Dense(500,activation=\"relu\"),\r\n",
        "  tf.keras.layers.Dense(1),\r\n",
        "  tf.keras.layers.Lambda(lambda x: x * 30000.0) \r\n",
        "])\r\n",
        "optimizer = tf.keras.optimizers.Adam(lr=1e-5)\r\n",
        "model.compile(loss=tf.keras.losses.Huber(),\r\n",
        "              optimizer=optimizer,\r\n",
        "              metrics=[\"mse\"])\r\n",
        "es = EarlyStopping(monitor='loss', mode='min', verbose=1, patience=20)\r\n",
        "history = model.fit(dataset, epochs=500,verbose=2,callbacks=[es])"
      ],
      "execution_count": 25,
      "outputs": [
        {
          "output_type": "stream",
          "text": [
            "Epoch 1/500\n",
            "17/17 - 21s - loss: 680.4171 - mse: 827405.0000\n",
            "Epoch 2/500\n",
            "17/17 - 15s - loss: 443.1716 - mse: 352000.9062\n",
            "Epoch 3/500\n",
            "17/17 - 15s - loss: 352.9641 - mse: 275327.5000\n",
            "Epoch 4/500\n",
            "17/17 - 15s - loss: 287.1051 - mse: 225067.3906\n",
            "Epoch 5/500\n",
            "17/17 - 15s - loss: 246.8557 - mse: 179211.2188\n",
            "Epoch 6/500\n",
            "17/17 - 15s - loss: 223.2064 - mse: 151225.0625\n",
            "Epoch 7/500\n",
            "17/17 - 15s - loss: 218.0968 - mse: 133977.8125\n",
            "Epoch 8/500\n",
            "17/17 - 15s - loss: 203.4279 - mse: 119013.6484\n",
            "Epoch 9/500\n",
            "17/17 - 15s - loss: 184.2057 - mse: 105005.8984\n",
            "Epoch 10/500\n",
            "17/17 - 15s - loss: 167.6025 - mse: 92567.2422\n",
            "Epoch 11/500\n",
            "17/17 - 15s - loss: 153.6857 - mse: 81160.1328\n",
            "Epoch 12/500\n",
            "17/17 - 15s - loss: 143.4387 - mse: 69162.8516\n",
            "Epoch 13/500\n",
            "17/17 - 15s - loss: 136.6824 - mse: 59376.7500\n",
            "Epoch 14/500\n",
            "17/17 - 15s - loss: 128.4357 - mse: 51632.9180\n",
            "Epoch 15/500\n",
            "17/17 - 15s - loss: 122.0295 - mse: 45074.5547\n",
            "Epoch 16/500\n",
            "17/17 - 15s - loss: 112.8469 - mse: 40156.8438\n",
            "Epoch 17/500\n",
            "17/17 - 15s - loss: 108.2229 - mse: 35463.3594\n",
            "Epoch 18/500\n",
            "17/17 - 15s - loss: 107.1025 - mse: 32373.6094\n",
            "Epoch 19/500\n",
            "17/17 - 15s - loss: 99.8049 - mse: 29550.5840\n",
            "Epoch 20/500\n",
            "17/17 - 15s - loss: 99.3064 - mse: 26815.0137\n",
            "Epoch 21/500\n",
            "17/17 - 15s - loss: 90.7364 - mse: 24132.3555\n",
            "Epoch 22/500\n",
            "17/17 - 15s - loss: 93.7303 - mse: 23165.3691\n",
            "Epoch 23/500\n",
            "17/17 - 15s - loss: 89.2733 - mse: 21794.3906\n",
            "Epoch 24/500\n",
            "17/17 - 15s - loss: 89.8784 - mse: 20630.0000\n",
            "Epoch 25/500\n",
            "17/17 - 15s - loss: 83.4061 - mse: 18425.3027\n",
            "Epoch 26/500\n",
            "17/17 - 15s - loss: 75.7128 - mse: 16491.6719\n",
            "Epoch 27/500\n",
            "17/17 - 15s - loss: 71.7935 - mse: 15109.0947\n",
            "Epoch 28/500\n",
            "17/17 - 15s - loss: 71.8082 - mse: 14228.4307\n",
            "Epoch 29/500\n",
            "17/17 - 15s - loss: 75.0656 - mse: 13819.4150\n",
            "Epoch 30/500\n",
            "17/17 - 15s - loss: 75.3883 - mse: 13082.6357\n",
            "Epoch 31/500\n",
            "17/17 - 15s - loss: 75.9965 - mse: 12716.4795\n",
            "Epoch 32/500\n",
            "17/17 - 15s - loss: 70.0244 - mse: 11191.3184\n",
            "Epoch 33/500\n",
            "17/17 - 15s - loss: 60.9099 - mse: 9783.4639\n",
            "Epoch 34/500\n",
            "17/17 - 15s - loss: 56.6859 - mse: 8810.1572\n",
            "Epoch 35/500\n",
            "17/17 - 15s - loss: 55.0016 - mse: 8292.4531\n",
            "Epoch 36/500\n",
            "17/17 - 15s - loss: 59.2416 - mse: 8411.3418\n",
            "Epoch 37/500\n",
            "17/17 - 15s - loss: 63.0975 - mse: 8902.8828\n",
            "Epoch 38/500\n",
            "17/17 - 15s - loss: 54.2295 - mse: 7524.2100\n",
            "Epoch 39/500\n",
            "17/17 - 15s - loss: 52.3086 - mse: 7099.2690\n",
            "Epoch 40/500\n",
            "17/17 - 15s - loss: 54.1075 - mse: 7252.1514\n",
            "Epoch 41/500\n",
            "17/17 - 15s - loss: 51.0735 - mse: 6614.4229\n",
            "Epoch 42/500\n",
            "17/17 - 15s - loss: 51.3657 - mse: 6531.9419\n",
            "Epoch 43/500\n",
            "17/17 - 15s - loss: 50.4431 - mse: 6450.8105\n",
            "Epoch 44/500\n",
            "17/17 - 15s - loss: 48.8560 - mse: 6052.3291\n",
            "Epoch 45/500\n",
            "17/17 - 15s - loss: 49.9886 - mse: 6042.6992\n",
            "Epoch 46/500\n",
            "17/17 - 15s - loss: 48.2997 - mse: 5836.7095\n",
            "Epoch 47/500\n",
            "17/17 - 15s - loss: 57.7622 - mse: 6809.9663\n",
            "Epoch 48/500\n",
            "17/17 - 15s - loss: 48.6915 - mse: 5722.9199\n",
            "Epoch 49/500\n",
            "17/17 - 15s - loss: 45.9977 - mse: 5407.8032\n",
            "Epoch 50/500\n",
            "17/17 - 15s - loss: 47.0469 - mse: 5441.3428\n",
            "Epoch 51/500\n",
            "17/17 - 15s - loss: 44.7066 - mse: 5133.5093\n",
            "Epoch 52/500\n",
            "17/17 - 15s - loss: 55.4079 - mse: 6229.2905\n",
            "Epoch 53/500\n",
            "17/17 - 15s - loss: 56.9516 - mse: 6371.8965\n",
            "Epoch 54/500\n",
            "17/17 - 15s - loss: 57.8542 - mse: 6528.4214\n",
            "Epoch 55/500\n",
            "17/17 - 15s - loss: 55.5070 - mse: 6209.5000\n",
            "Epoch 56/500\n",
            "17/17 - 15s - loss: 53.6201 - mse: 5888.2280\n",
            "Epoch 57/500\n",
            "17/17 - 15s - loss: 46.7306 - mse: 5129.9019\n",
            "Epoch 58/500\n",
            "17/17 - 15s - loss: 42.4665 - mse: 4680.2993\n",
            "Epoch 59/500\n",
            "17/17 - 14s - loss: 54.1274 - mse: 5887.0649\n",
            "Epoch 60/500\n",
            "17/17 - 14s - loss: 52.6895 - mse: 5595.2954\n",
            "Epoch 61/500\n",
            "17/17 - 15s - loss: 48.7834 - mse: 5160.2080\n",
            "Epoch 62/500\n",
            "17/17 - 14s - loss: 43.6039 - mse: 4673.5669\n",
            "Epoch 63/500\n",
            "17/17 - 15s - loss: 43.4934 - mse: 4577.0054\n",
            "Epoch 64/500\n",
            "17/17 - 15s - loss: 42.1463 - mse: 4484.8730\n",
            "Epoch 65/500\n",
            "17/17 - 15s - loss: 50.5533 - mse: 5314.6978\n",
            "Epoch 66/500\n",
            "17/17 - 15s - loss: 41.8232 - mse: 4387.1460\n",
            "Epoch 67/500\n",
            "17/17 - 15s - loss: 43.6296 - mse: 4546.5664\n",
            "Epoch 68/500\n",
            "17/17 - 15s - loss: 47.1981 - mse: 4925.2393\n",
            "Epoch 69/500\n",
            "17/17 - 15s - loss: 46.9377 - mse: 4865.3994\n",
            "Epoch 70/500\n",
            "17/17 - 15s - loss: 52.3231 - mse: 5359.9570\n",
            "Epoch 71/500\n",
            "17/17 - 15s - loss: 45.7369 - mse: 4657.6440\n",
            "Epoch 72/500\n",
            "17/17 - 15s - loss: 40.9067 - mse: 4187.6938\n",
            "Epoch 73/500\n",
            "17/17 - 15s - loss: 42.6718 - mse: 4315.9814\n",
            "Epoch 74/500\n",
            "17/17 - 15s - loss: 42.0515 - mse: 4275.0869\n",
            "Epoch 75/500\n",
            "17/17 - 15s - loss: 48.1814 - mse: 4878.6128\n",
            "Epoch 76/500\n",
            "17/17 - 15s - loss: 47.2676 - mse: 4722.8540\n",
            "Epoch 77/500\n",
            "17/17 - 15s - loss: 40.0909 - mse: 4028.2327\n",
            "Epoch 78/500\n",
            "17/17 - 15s - loss: 40.6297 - mse: 4032.4324\n",
            "Epoch 79/500\n",
            "17/17 - 15s - loss: 40.0901 - mse: 3998.2664\n",
            "Epoch 80/500\n",
            "17/17 - 15s - loss: 48.4591 - mse: 4742.6309\n",
            "Epoch 81/500\n",
            "17/17 - 15s - loss: 51.2798 - mse: 5054.4624\n",
            "Epoch 82/500\n",
            "17/17 - 15s - loss: 46.2657 - mse: 4511.6338\n",
            "Epoch 83/500\n",
            "17/17 - 15s - loss: 39.3319 - mse: 3858.8464\n",
            "Epoch 84/500\n",
            "17/17 - 14s - loss: 37.8761 - mse: 3736.6343\n",
            "Epoch 85/500\n",
            "17/17 - 15s - loss: 37.2342 - mse: 3642.7771\n",
            "Epoch 86/500\n",
            "17/17 - 14s - loss: 39.1201 - mse: 3751.1455\n",
            "Epoch 87/500\n",
            "17/17 - 14s - loss: 38.1370 - mse: 3669.1833\n",
            "Epoch 88/500\n",
            "17/17 - 15s - loss: 38.8885 - mse: 3735.0312\n",
            "Epoch 89/500\n",
            "17/17 - 15s - loss: 40.4663 - mse: 3873.8584\n",
            "Epoch 90/500\n",
            "17/17 - 15s - loss: 40.9595 - mse: 3927.3096\n",
            "Epoch 91/500\n",
            "17/17 - 15s - loss: 39.7335 - mse: 3741.5618\n",
            "Epoch 92/500\n",
            "17/17 - 15s - loss: 50.3388 - mse: 4957.0942\n",
            "Epoch 93/500\n",
            "17/17 - 14s - loss: 51.2465 - mse: 4911.6250\n",
            "Epoch 94/500\n",
            "17/17 - 15s - loss: 54.9669 - mse: 5346.4727\n",
            "Epoch 95/500\n",
            "17/17 - 15s - loss: 48.9956 - mse: 4766.9077\n",
            "Epoch 96/500\n",
            "17/17 - 15s - loss: 48.6640 - mse: 4553.3706\n",
            "Epoch 97/500\n",
            "17/17 - 15s - loss: 45.9549 - mse: 4263.3022\n",
            "Epoch 98/500\n",
            "17/17 - 15s - loss: 48.4051 - mse: 4533.5308\n",
            "Epoch 99/500\n",
            "17/17 - 15s - loss: 40.9953 - mse: 3764.8782\n",
            "Epoch 100/500\n",
            "17/17 - 15s - loss: 37.9821 - mse: 3523.5227\n",
            "Epoch 101/500\n",
            "17/17 - 15s - loss: 37.3639 - mse: 3459.6804\n",
            "Epoch 102/500\n",
            "17/17 - 15s - loss: 39.1374 - mse: 3588.8857\n",
            "Epoch 103/500\n",
            "17/17 - 14s - loss: 38.3554 - mse: 3495.6760\n",
            "Epoch 104/500\n",
            "17/17 - 15s - loss: 38.5897 - mse: 3551.6865\n",
            "Epoch 105/500\n",
            "17/17 - 15s - loss: 37.0787 - mse: 3396.0625\n",
            "Epoch 106/500\n",
            "17/17 - 15s - loss: 39.0414 - mse: 3567.0688\n",
            "Epoch 107/500\n",
            "17/17 - 15s - loss: 46.6855 - mse: 4231.4404\n",
            "Epoch 108/500\n",
            "17/17 - 15s - loss: 47.5677 - mse: 4283.2002\n",
            "Epoch 109/500\n",
            "17/17 - 15s - loss: 49.2121 - mse: 4520.7329\n",
            "Epoch 110/500\n",
            "17/17 - 15s - loss: 45.1167 - mse: 4106.4019\n",
            "Epoch 111/500\n",
            "17/17 - 15s - loss: 46.5571 - mse: 4213.2437\n",
            "Epoch 112/500\n",
            "17/17 - 15s - loss: 46.4749 - mse: 4257.8584\n",
            "Epoch 113/500\n",
            "17/17 - 15s - loss: 48.3910 - mse: 4372.0986\n",
            "Epoch 114/500\n",
            "17/17 - 15s - loss: 45.7475 - mse: 4099.0630\n",
            "Epoch 115/500\n",
            "17/17 - 15s - loss: 46.4127 - mse: 4222.3882\n",
            "Epoch 116/500\n",
            "17/17 - 15s - loss: 46.3522 - mse: 4203.9707\n",
            "Epoch 117/500\n",
            "17/17 - 15s - loss: 37.1517 - mse: 3297.1147\n",
            "Epoch 118/500\n",
            "17/17 - 15s - loss: 40.3684 - mse: 3566.2051\n",
            "Epoch 119/500\n",
            "17/17 - 14s - loss: 35.3831 - mse: 3152.1904\n",
            "Epoch 120/500\n",
            "17/17 - 15s - loss: 35.7066 - mse: 3174.7605\n",
            "Epoch 121/500\n",
            "17/17 - 15s - loss: 36.4069 - mse: 3216.4763\n",
            "Epoch 122/500\n",
            "17/17 - 15s - loss: 35.6129 - mse: 3173.3030\n",
            "Epoch 123/500\n",
            "17/17 - 15s - loss: 37.6882 - mse: 3317.8965\n",
            "Epoch 124/500\n",
            "17/17 - 15s - loss: 35.6046 - mse: 3152.9802\n",
            "Epoch 125/500\n",
            "17/17 - 15s - loss: 35.8813 - mse: 3122.5454\n",
            "Epoch 126/500\n",
            "17/17 - 14s - loss: 37.1984 - mse: 3236.6270\n",
            "Epoch 127/500\n",
            "17/17 - 15s - loss: 34.7840 - mse: 3057.4412\n",
            "Epoch 128/500\n",
            "17/17 - 15s - loss: 37.2842 - mse: 3265.8667\n",
            "Epoch 129/500\n",
            "17/17 - 15s - loss: 35.3513 - mse: 3078.4885\n",
            "Epoch 130/500\n",
            "17/17 - 15s - loss: 37.6940 - mse: 3221.5581\n",
            "Epoch 131/500\n",
            "17/17 - 14s - loss: 39.0632 - mse: 3395.3232\n",
            "Epoch 132/500\n",
            "17/17 - 15s - loss: 36.0150 - mse: 3139.9050\n",
            "Epoch 133/500\n",
            "17/17 - 15s - loss: 35.0356 - mse: 3045.2834\n",
            "Epoch 134/500\n",
            "17/17 - 15s - loss: 38.8463 - mse: 3317.5979\n",
            "Epoch 135/500\n",
            "17/17 - 15s - loss: 40.0321 - mse: 3479.0474\n",
            "Epoch 136/500\n",
            "17/17 - 15s - loss: 48.4170 - mse: 4271.3247\n",
            "Epoch 137/500\n",
            "17/17 - 15s - loss: 50.2208 - mse: 4570.9302\n",
            "Epoch 138/500\n",
            "17/17 - 15s - loss: 46.5262 - mse: 4113.3428\n",
            "Epoch 139/500\n",
            "17/17 - 15s - loss: 35.5642 - mse: 3040.4048\n",
            "Epoch 140/500\n",
            "17/17 - 15s - loss: 35.2819 - mse: 3000.5818\n",
            "Epoch 141/500\n",
            "17/17 - 15s - loss: 34.7330 - mse: 2960.2439\n",
            "Epoch 142/500\n",
            "17/17 - 15s - loss: 36.1905 - mse: 3083.6721\n",
            "Epoch 143/500\n",
            "17/17 - 15s - loss: 37.4733 - mse: 3154.3921\n",
            "Epoch 144/500\n",
            "17/17 - 15s - loss: 35.6491 - mse: 3000.2666\n",
            "Epoch 145/500\n",
            "17/17 - 14s - loss: 37.2951 - mse: 3157.7515\n",
            "Epoch 146/500\n",
            "17/17 - 15s - loss: 35.5221 - mse: 2988.4421\n",
            "Epoch 147/500\n",
            "17/17 - 15s - loss: 37.9948 - mse: 3163.2588\n",
            "Epoch 148/500\n",
            "17/17 - 15s - loss: 35.9322 - mse: 3031.6855\n",
            "Epoch 149/500\n",
            "17/17 - 15s - loss: 35.8205 - mse: 2988.1531\n",
            "Epoch 150/500\n",
            "17/17 - 15s - loss: 35.7109 - mse: 2995.8474\n",
            "Epoch 151/500\n",
            "17/17 - 15s - loss: 35.9726 - mse: 2976.6294\n",
            "Epoch 152/500\n",
            "17/17 - 15s - loss: 35.7268 - mse: 3013.7454\n",
            "Epoch 153/500\n",
            "17/17 - 15s - loss: 37.2694 - mse: 3097.0955\n",
            "Epoch 154/500\n",
            "17/17 - 15s - loss: 37.2655 - mse: 3090.5623\n",
            "Epoch 155/500\n",
            "17/17 - 15s - loss: 35.9351 - mse: 2994.2451\n",
            "Epoch 156/500\n",
            "17/17 - 15s - loss: 34.1765 - mse: 2860.0957\n",
            "Epoch 157/500\n",
            "17/17 - 15s - loss: 35.7062 - mse: 3017.9216\n",
            "Epoch 158/500\n",
            "17/17 - 15s - loss: 36.6461 - mse: 3048.0081\n",
            "Epoch 159/500\n",
            "17/17 - 15s - loss: 37.7368 - mse: 3110.7332\n",
            "Epoch 160/500\n",
            "17/17 - 15s - loss: 36.8347 - mse: 3065.6033\n",
            "Epoch 161/500\n",
            "17/17 - 15s - loss: 35.1280 - mse: 2897.7627\n",
            "Epoch 162/500\n",
            "17/17 - 15s - loss: 36.3575 - mse: 2973.0745\n",
            "Epoch 163/500\n",
            "17/17 - 15s - loss: 34.5269 - mse: 2873.3613\n",
            "Epoch 164/500\n",
            "17/17 - 15s - loss: 39.7604 - mse: 3280.5234\n",
            "Epoch 165/500\n",
            "17/17 - 15s - loss: 49.9936 - mse: 4396.6650\n",
            "Epoch 166/500\n",
            "17/17 - 15s - loss: 45.5305 - mse: 3991.9224\n",
            "Epoch 167/500\n",
            "17/17 - 15s - loss: 35.5376 - mse: 2938.8108\n",
            "Epoch 168/500\n",
            "17/17 - 15s - loss: 35.2081 - mse: 2887.1323\n",
            "Epoch 169/500\n",
            "17/17 - 15s - loss: 35.1534 - mse: 2853.5996\n",
            "Epoch 170/500\n",
            "17/17 - 15s - loss: 35.9714 - mse: 2976.5449\n",
            "Epoch 171/500\n",
            "17/17 - 15s - loss: 34.8944 - mse: 2863.2749\n",
            "Epoch 172/500\n",
            "17/17 - 15s - loss: 34.2309 - mse: 2810.4956\n",
            "Epoch 173/500\n",
            "17/17 - 15s - loss: 34.4745 - mse: 2823.5427\n",
            "Epoch 174/500\n",
            "17/17 - 15s - loss: 40.1885 - mse: 3379.9956\n",
            "Epoch 175/500\n",
            "17/17 - 15s - loss: 37.6085 - mse: 3059.6370\n",
            "Epoch 176/500\n",
            "17/17 - 15s - loss: 35.5259 - mse: 2873.3596\n",
            "Epoch 00176: early stopping\n"
          ],
          "name": "stdout"
        }
      ]
    },
    {
      "cell_type": "code",
      "metadata": {
        "id": "27yJLojDSKyt",
        "colab": {
          "base_uri": "https://localhost:8080/",
          "height": 388
        },
        "outputId": "e368aafc-290e-4693-bafc-e572627d6000"
      },
      "source": [
        "\n",
        "forecast = []\n",
        "for time in range(len(Train) - window_size):\n",
        "  forecast.append(model.predict(np.array(Train[time:time + window_size])[np.newaxis]))\n",
        "forecast = forecast[split_time-window_size:]\n",
        "results = np.array(forecast)[:, 0, 0]\n",
        "plt.figure(figsize=(10, 6))\n",
        "plot_series(time_valid, x_valid)\n",
        "plot_series(time_valid, results)"
      ],
      "execution_count": 26,
      "outputs": [
        {
          "output_type": "display_data",
          "data": {
            "application/javascript": [
              "\n",
              "    async function download(id, filename, size) {\n",
              "      if (!google.colab.kernel.accessAllowed) {\n",
              "        return;\n",
              "      }\n",
              "      const div = document.createElement('div');\n",
              "      const label = document.createElement('label');\n",
              "      label.textContent = `Downloading \"${filename}\": `;\n",
              "      div.appendChild(label);\n",
              "      const progress = document.createElement('progress');\n",
              "      progress.max = size;\n",
              "      div.appendChild(progress);\n",
              "      document.body.appendChild(div);\n",
              "\n",
              "      const buffers = [];\n",
              "      let downloaded = 0;\n",
              "\n",
              "      const channel = await google.colab.kernel.comms.open(id);\n",
              "      // Send a message to notify the kernel that we're ready.\n",
              "      channel.send({})\n",
              "\n",
              "      for await (const message of channel.messages) {\n",
              "        // Send a message to notify the kernel that we're ready.\n",
              "        channel.send({})\n",
              "        if (message.buffers) {\n",
              "          for (const buffer of message.buffers) {\n",
              "            buffers.push(buffer);\n",
              "            downloaded += buffer.byteLength;\n",
              "            progress.value = downloaded;\n",
              "          }\n",
              "        }\n",
              "      }\n",
              "      const blob = new Blob(buffers, {type: 'application/binary'});\n",
              "      const a = document.createElement('a');\n",
              "      a.href = window.URL.createObjectURL(blob);\n",
              "      a.download = filename;\n",
              "      div.appendChild(a);\n",
              "      a.click();\n",
              "      div.remove();\n",
              "    }\n",
              "  "
            ],
            "text/plain": [
              "<IPython.core.display.Javascript object>"
            ]
          },
          "metadata": {
            "tags": []
          }
        },
        {
          "output_type": "display_data",
          "data": {
            "application/javascript": [
              "download(\"download_fb195899-5db4-46cd-8f0c-e961facb02fd\", \"new.jpg\", 38590)"
            ],
            "text/plain": [
              "<IPython.core.display.Javascript object>"
            ]
          },
          "metadata": {
            "tags": []
          }
        },
        {
          "output_type": "display_data",
          "data": {
            "application/javascript": [
              "\n",
              "    async function download(id, filename, size) {\n",
              "      if (!google.colab.kernel.accessAllowed) {\n",
              "        return;\n",
              "      }\n",
              "      const div = document.createElement('div');\n",
              "      const label = document.createElement('label');\n",
              "      label.textContent = `Downloading \"${filename}\": `;\n",
              "      div.appendChild(label);\n",
              "      const progress = document.createElement('progress');\n",
              "      progress.max = size;\n",
              "      div.appendChild(progress);\n",
              "      document.body.appendChild(div);\n",
              "\n",
              "      const buffers = [];\n",
              "      let downloaded = 0;\n",
              "\n",
              "      const channel = await google.colab.kernel.comms.open(id);\n",
              "      // Send a message to notify the kernel that we're ready.\n",
              "      channel.send({})\n",
              "\n",
              "      for await (const message of channel.messages) {\n",
              "        // Send a message to notify the kernel that we're ready.\n",
              "        channel.send({})\n",
              "        if (message.buffers) {\n",
              "          for (const buffer of message.buffers) {\n",
              "            buffers.push(buffer);\n",
              "            downloaded += buffer.byteLength;\n",
              "            progress.value = downloaded;\n",
              "          }\n",
              "        }\n",
              "      }\n",
              "      const blob = new Blob(buffers, {type: 'application/binary'});\n",
              "      const a = document.createElement('a');\n",
              "      a.href = window.URL.createObjectURL(blob);\n",
              "      a.download = filename;\n",
              "      div.appendChild(a);\n",
              "      a.click();\n",
              "      div.remove();\n",
              "    }\n",
              "  "
            ],
            "text/plain": [
              "<IPython.core.display.Javascript object>"
            ]
          },
          "metadata": {
            "tags": []
          }
        },
        {
          "output_type": "display_data",
          "data": {
            "application/javascript": [
              "download(\"download_11b99122-547d-4fd4-9909-3bf7f954a22b\", \"new.jpg\", 54194)"
            ],
            "text/plain": [
              "<IPython.core.display.Javascript object>"
            ]
          },
          "metadata": {
            "tags": []
          }
        },
        {
          "output_type": "display_data",
          "data": {
            "image/png": "[encoded data removed]",
            "text/plain": [
              "<Figure size 720x432 with 1 Axes>"
            ]
          },
          "metadata": {
            "tags": [],
            "needs_background": "light"
          }
        }
      ]
    },
    {
      "cell_type": "code",
      "metadata": {
        "id": "bU0fNJ52bPpm",
        "colab": {
          "base_uri": "https://localhost:8080/"
        },
        "outputId": "2bad8609-8549-41a7-ded3-0ad413e55a0d"
      },
      "source": [
        "accuracy(x_valid,results)"
      ],
      "execution_count": 27,
      "outputs": [
        {
          "output_type": "stream",
          "text": [
            "MSE :  10364.572\n",
            "MAE:  80.46758\n"
          ],
          "name": "stdout"
        }
      ]
    }
  ]
}